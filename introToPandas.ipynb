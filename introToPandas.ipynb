{
  "nbformat": 4,
  "nbformat_minor": 0,
  "metadata": {
    "colab": {
      "name": "introToPandas.ipynb",
      "provenance": [],
      "collapsed_sections": [],
      "authorship_tag": "ABX9TyMIeyx73nAR3yzgBhmfDnlU",
      "include_colab_link": true
    },
    "kernelspec": {
      "name": "python3",
      "display_name": "Python 3"
    },
    "language_info": {
      "name": "python"
    }
  },
  "cells": [
    {
      "cell_type": "markdown",
      "metadata": {
        "id": "view-in-github",
        "colab_type": "text"
      },
      "source": [
        "<a href=\"https://colab.research.google.com/github/ROrodrigp/ProgramacionCienciaDatos/blob/main/introToPandas.ipynb\" target=\"_parent\"><img src=\"https://colab.research.google.com/assets/colab-badge.svg\" alt=\"Open In Colab\"/></a>"
      ]
    },
    {
      "cell_type": "code",
      "metadata": {
        "id": "0mgM9jr6cj8n"
      },
      "source": [
        "#Pandas es una biblioteca para acceso y manipulacion de datos\n",
        "import pandas as pd"
      ],
      "execution_count": null,
      "outputs": []
    },
    {
      "cell_type": "code",
      "metadata": {
        "colab": {
          "base_uri": "https://localhost:8080/"
        },
        "id": "q3NIXWqucySD",
        "outputId": "b549af87-954f-4373-898b-fb249c02d697"
      },
      "source": [
        "datos = pd.read_csv('https://bit.ly/31B56KB')\n",
        "type(datos)"
      ],
      "execution_count": null,
      "outputs": [
        {
          "output_type": "execute_result",
          "data": {
            "text/plain": [
              "pandas.core.frame.DataFrame"
            ]
          },
          "metadata": {},
          "execution_count": 2
        }
      ]
    },
    {
      "cell_type": "code",
      "metadata": {
        "colab": {
          "base_uri": "https://localhost:8080/",
          "height": 142
        },
        "id": "S0dbH0Izc7wQ",
        "outputId": "53e67ff3-668a-43ba-e38b-5ab7dc322825"
      },
      "source": [
        "datos.head(3)"
      ],
      "execution_count": null,
      "outputs": [
        {
          "output_type": "execute_result",
          "data": {
            "text/html": [
              "<div>\n",
              "<style scoped>\n",
              "    .dataframe tbody tr th:only-of-type {\n",
              "        vertical-align: middle;\n",
              "    }\n",
              "\n",
              "    .dataframe tbody tr th {\n",
              "        vertical-align: top;\n",
              "    }\n",
              "\n",
              "    .dataframe thead th {\n",
              "        text-align: right;\n",
              "    }\n",
              "</style>\n",
              "<table border=\"1\" class=\"dataframe\">\n",
              "  <thead>\n",
              "    <tr style=\"text-align: right;\">\n",
              "      <th></th>\n",
              "      <th>Contaminacion_SO2</th>\n",
              "      <th>Temperatura</th>\n",
              "      <th>Fabricas</th>\n",
              "      <th>Habitantes</th>\n",
              "      <th>Velocidad_viento</th>\n",
              "      <th>Lluvia</th>\n",
              "      <th>Dias_Lluvia</th>\n",
              "    </tr>\n",
              "  </thead>\n",
              "  <tbody>\n",
              "    <tr>\n",
              "      <th>0</th>\n",
              "      <td>10</td>\n",
              "      <td>70.3</td>\n",
              "      <td>213</td>\n",
              "      <td>582</td>\n",
              "      <td>6.0</td>\n",
              "      <td>7.05</td>\n",
              "      <td>36</td>\n",
              "    </tr>\n",
              "    <tr>\n",
              "      <th>1</th>\n",
              "      <td>13</td>\n",
              "      <td>61.0</td>\n",
              "      <td>91</td>\n",
              "      <td>132</td>\n",
              "      <td>8.2</td>\n",
              "      <td>48.52</td>\n",
              "      <td>100</td>\n",
              "    </tr>\n",
              "    <tr>\n",
              "      <th>2</th>\n",
              "      <td>12</td>\n",
              "      <td>56.7</td>\n",
              "      <td>453</td>\n",
              "      <td>716</td>\n",
              "      <td>8.7</td>\n",
              "      <td>20.66</td>\n",
              "      <td>67</td>\n",
              "    </tr>\n",
              "  </tbody>\n",
              "</table>\n",
              "</div>"
            ],
            "text/plain": [
              "   Contaminacion_SO2  Temperatura  ...  Lluvia  Dias_Lluvia\n",
              "0                 10         70.3  ...    7.05           36\n",
              "1                 13         61.0  ...   48.52          100\n",
              "2                 12         56.7  ...   20.66           67\n",
              "\n",
              "[3 rows x 7 columns]"
            ]
          },
          "metadata": {},
          "execution_count": 3
        }
      ]
    },
    {
      "cell_type": "code",
      "metadata": {
        "colab": {
          "base_uri": "https://localhost:8080/",
          "height": 142
        },
        "id": "0Gz-0RM2c_xM",
        "outputId": "3f5b3ec3-813b-4cd8-e16f-604512ffc036"
      },
      "source": [
        "datos.tail(3)"
      ],
      "execution_count": null,
      "outputs": [
        {
          "output_type": "execute_result",
          "data": {
            "text/html": [
              "<div>\n",
              "<style scoped>\n",
              "    .dataframe tbody tr th:only-of-type {\n",
              "        vertical-align: middle;\n",
              "    }\n",
              "\n",
              "    .dataframe tbody tr th {\n",
              "        vertical-align: top;\n",
              "    }\n",
              "\n",
              "    .dataframe thead th {\n",
              "        text-align: right;\n",
              "    }\n",
              "</style>\n",
              "<table border=\"1\" class=\"dataframe\">\n",
              "  <thead>\n",
              "    <tr style=\"text-align: right;\">\n",
              "      <th></th>\n",
              "      <th>Contaminacion_SO2</th>\n",
              "      <th>Temperatura</th>\n",
              "      <th>Fabricas</th>\n",
              "      <th>Habitantes</th>\n",
              "      <th>Velocidad_viento</th>\n",
              "      <th>Lluvia</th>\n",
              "      <th>Dias_Lluvia</th>\n",
              "    </tr>\n",
              "  </thead>\n",
              "  <tbody>\n",
              "    <tr>\n",
              "      <th>38</th>\n",
              "      <td>29</td>\n",
              "      <td>51.1</td>\n",
              "      <td>379</td>\n",
              "      <td>531</td>\n",
              "      <td>9.4</td>\n",
              "      <td>38.79</td>\n",
              "      <td>164</td>\n",
              "    </tr>\n",
              "    <tr>\n",
              "      <th>39</th>\n",
              "      <td>31</td>\n",
              "      <td>55.2</td>\n",
              "      <td>35</td>\n",
              "      <td>71</td>\n",
              "      <td>6.5</td>\n",
              "      <td>40.75</td>\n",
              "      <td>148</td>\n",
              "    </tr>\n",
              "    <tr>\n",
              "      <th>40</th>\n",
              "      <td>16</td>\n",
              "      <td>45.7</td>\n",
              "      <td>569</td>\n",
              "      <td>717</td>\n",
              "      <td>11.8</td>\n",
              "      <td>29.07</td>\n",
              "      <td>123</td>\n",
              "    </tr>\n",
              "  </tbody>\n",
              "</table>\n",
              "</div>"
            ],
            "text/plain": [
              "    Contaminacion_SO2  Temperatura  ...  Lluvia  Dias_Lluvia\n",
              "38                 29         51.1  ...   38.79          164\n",
              "39                 31         55.2  ...   40.75          148\n",
              "40                 16         45.7  ...   29.07          123\n",
              "\n",
              "[3 rows x 7 columns]"
            ]
          },
          "metadata": {},
          "execution_count": 4
        }
      ]
    },
    {
      "cell_type": "code",
      "metadata": {
        "colab": {
          "base_uri": "https://localhost:8080/"
        },
        "id": "3O39reDmdRAr",
        "outputId": "6f34edd1-b803-4b11-81db-2087c7e901a1"
      },
      "source": [
        "datos.info()"
      ],
      "execution_count": null,
      "outputs": [
        {
          "output_type": "stream",
          "name": "stdout",
          "text": [
            "<class 'pandas.core.frame.DataFrame'>\n",
            "RangeIndex: 41 entries, 0 to 40\n",
            "Data columns (total 7 columns):\n",
            " #   Column             Non-Null Count  Dtype  \n",
            "---  ------             --------------  -----  \n",
            " 0   Contaminacion_SO2  41 non-null     int64  \n",
            " 1   Temperatura        41 non-null     float64\n",
            " 2   Fabricas           41 non-null     int64  \n",
            " 3   Habitantes         41 non-null     int64  \n",
            " 4   Velocidad_viento   41 non-null     float64\n",
            " 5   Lluvia             41 non-null     float64\n",
            " 6   Dias_Lluvia        41 non-null     int64  \n",
            "dtypes: float64(3), int64(4)\n",
            "memory usage: 2.4 KB\n"
          ]
        }
      ]
    },
    {
      "cell_type": "code",
      "metadata": {
        "colab": {
          "base_uri": "https://localhost:8080/",
          "height": 297
        },
        "id": "7pNcCzrQdbha",
        "outputId": "81336112-91f7-4ae3-8012-add65c46c695"
      },
      "source": [
        "datos.describe()"
      ],
      "execution_count": null,
      "outputs": [
        {
          "output_type": "execute_result",
          "data": {
            "text/html": [
              "<div>\n",
              "<style scoped>\n",
              "    .dataframe tbody tr th:only-of-type {\n",
              "        vertical-align: middle;\n",
              "    }\n",
              "\n",
              "    .dataframe tbody tr th {\n",
              "        vertical-align: top;\n",
              "    }\n",
              "\n",
              "    .dataframe thead th {\n",
              "        text-align: right;\n",
              "    }\n",
              "</style>\n",
              "<table border=\"1\" class=\"dataframe\">\n",
              "  <thead>\n",
              "    <tr style=\"text-align: right;\">\n",
              "      <th></th>\n",
              "      <th>Contaminacion_SO2</th>\n",
              "      <th>Temperatura</th>\n",
              "      <th>Fabricas</th>\n",
              "      <th>Habitantes</th>\n",
              "      <th>Velocidad_viento</th>\n",
              "      <th>Lluvia</th>\n",
              "      <th>Dias_Lluvia</th>\n",
              "    </tr>\n",
              "  </thead>\n",
              "  <tbody>\n",
              "    <tr>\n",
              "      <th>count</th>\n",
              "      <td>41.000000</td>\n",
              "      <td>41.000000</td>\n",
              "      <td>41.000000</td>\n",
              "      <td>41.000000</td>\n",
              "      <td>41.000000</td>\n",
              "      <td>41.000000</td>\n",
              "      <td>41.000000</td>\n",
              "    </tr>\n",
              "    <tr>\n",
              "      <th>mean</th>\n",
              "      <td>30.048780</td>\n",
              "      <td>55.763415</td>\n",
              "      <td>463.097561</td>\n",
              "      <td>608.609756</td>\n",
              "      <td>9.443902</td>\n",
              "      <td>36.769024</td>\n",
              "      <td>113.902439</td>\n",
              "    </tr>\n",
              "    <tr>\n",
              "      <th>std</th>\n",
              "      <td>23.472272</td>\n",
              "      <td>7.227716</td>\n",
              "      <td>563.473948</td>\n",
              "      <td>579.113023</td>\n",
              "      <td>1.428644</td>\n",
              "      <td>11.771550</td>\n",
              "      <td>26.506419</td>\n",
              "    </tr>\n",
              "    <tr>\n",
              "      <th>min</th>\n",
              "      <td>8.000000</td>\n",
              "      <td>43.500000</td>\n",
              "      <td>35.000000</td>\n",
              "      <td>71.000000</td>\n",
              "      <td>6.000000</td>\n",
              "      <td>7.050000</td>\n",
              "      <td>36.000000</td>\n",
              "    </tr>\n",
              "    <tr>\n",
              "      <th>25%</th>\n",
              "      <td>13.000000</td>\n",
              "      <td>50.600000</td>\n",
              "      <td>181.000000</td>\n",
              "      <td>299.000000</td>\n",
              "      <td>8.700000</td>\n",
              "      <td>30.960000</td>\n",
              "      <td>103.000000</td>\n",
              "    </tr>\n",
              "    <tr>\n",
              "      <th>50%</th>\n",
              "      <td>26.000000</td>\n",
              "      <td>54.600000</td>\n",
              "      <td>347.000000</td>\n",
              "      <td>515.000000</td>\n",
              "      <td>9.300000</td>\n",
              "      <td>38.740000</td>\n",
              "      <td>115.000000</td>\n",
              "    </tr>\n",
              "    <tr>\n",
              "      <th>75%</th>\n",
              "      <td>35.000000</td>\n",
              "      <td>59.300000</td>\n",
              "      <td>462.000000</td>\n",
              "      <td>717.000000</td>\n",
              "      <td>10.600000</td>\n",
              "      <td>43.110000</td>\n",
              "      <td>128.000000</td>\n",
              "    </tr>\n",
              "    <tr>\n",
              "      <th>max</th>\n",
              "      <td>110.000000</td>\n",
              "      <td>75.500000</td>\n",
              "      <td>3344.000000</td>\n",
              "      <td>3369.000000</td>\n",
              "      <td>12.700000</td>\n",
              "      <td>59.800000</td>\n",
              "      <td>166.000000</td>\n",
              "    </tr>\n",
              "  </tbody>\n",
              "</table>\n",
              "</div>"
            ],
            "text/plain": [
              "       Contaminacion_SO2  Temperatura  ...     Lluvia  Dias_Lluvia\n",
              "count          41.000000    41.000000  ...  41.000000    41.000000\n",
              "mean           30.048780    55.763415  ...  36.769024   113.902439\n",
              "std            23.472272     7.227716  ...  11.771550    26.506419\n",
              "min             8.000000    43.500000  ...   7.050000    36.000000\n",
              "25%            13.000000    50.600000  ...  30.960000   103.000000\n",
              "50%            26.000000    54.600000  ...  38.740000   115.000000\n",
              "75%            35.000000    59.300000  ...  43.110000   128.000000\n",
              "max           110.000000    75.500000  ...  59.800000   166.000000\n",
              "\n",
              "[8 rows x 7 columns]"
            ]
          },
          "metadata": {},
          "execution_count": 6
        }
      ]
    },
    {
      "cell_type": "code",
      "metadata": {
        "colab": {
          "base_uri": "https://localhost:8080/"
        },
        "id": "eW30Q4-Pd9u5",
        "outputId": "d9828963-49f8-46e8-d79b-edb05ee4ff8f"
      },
      "source": [
        "len(datos)"
      ],
      "execution_count": null,
      "outputs": [
        {
          "output_type": "execute_result",
          "data": {
            "text/plain": [
              "41"
            ]
          },
          "metadata": {},
          "execution_count": 7
        }
      ]
    },
    {
      "cell_type": "code",
      "metadata": {
        "colab": {
          "base_uri": "https://localhost:8080/"
        },
        "id": "_sbEYZzrd_w0",
        "outputId": "8b8870bb-7c7c-4e82-db5e-1fa336dfa34b"
      },
      "source": [
        "datos.columns"
      ],
      "execution_count": null,
      "outputs": [
        {
          "output_type": "execute_result",
          "data": {
            "text/plain": [
              "Index(['Contaminacion_SO2', 'Temperatura', 'Fabricas', 'Habitantes',\n",
              "       'Velocidad_viento', 'Lluvia', 'Dias_Lluvia'],\n",
              "      dtype='object')"
            ]
          },
          "metadata": {},
          "execution_count": 8
        }
      ]
    },
    {
      "cell_type": "code",
      "metadata": {
        "colab": {
          "base_uri": "https://localhost:8080/"
        },
        "id": "IjDwUchZeGuL",
        "outputId": "f8c95040-4bc2-4948-8624-58affaf58050"
      },
      "source": [
        "datos.dtypes"
      ],
      "execution_count": null,
      "outputs": [
        {
          "output_type": "execute_result",
          "data": {
            "text/plain": [
              "Contaminacion_SO2      int64\n",
              "Temperatura          float64\n",
              "Fabricas               int64\n",
              "Habitantes             int64\n",
              "Velocidad_viento     float64\n",
              "Lluvia               float64\n",
              "Dias_Lluvia            int64\n",
              "dtype: object"
            ]
          },
          "metadata": {},
          "execution_count": 9
        }
      ]
    },
    {
      "cell_type": "code",
      "metadata": {
        "colab": {
          "base_uri": "https://localhost:8080/"
        },
        "id": "XNJVOKCqeJWF",
        "outputId": "6dd49f87-ca12-4efb-dc9f-7f4ff46cbaa5"
      },
      "source": [
        "datos.shape"
      ],
      "execution_count": null,
      "outputs": [
        {
          "output_type": "execute_result",
          "data": {
            "text/plain": [
              "(41, 7)"
            ]
          },
          "metadata": {},
          "execution_count": 10
        }
      ]
    },
    {
      "cell_type": "code",
      "metadata": {
        "colab": {
          "base_uri": "https://localhost:8080/"
        },
        "id": "XF0vmdZpep6q",
        "outputId": "72098f89-d809-42fa-beb2-cb9d558f3f39"
      },
      "source": [
        "datos.values"
      ],
      "execution_count": null,
      "outputs": [
        {
          "output_type": "execute_result",
          "data": {
            "text/plain": [
              "array([[  10.  ,   70.3 ,  213.  ,  582.  ,    6.  ,    7.05,   36.  ],\n",
              "       [  13.  ,   61.  ,   91.  ,  132.  ,    8.2 ,   48.52,  100.  ],\n",
              "       [  12.  ,   56.7 ,  453.  ,  716.  ,    8.7 ,   20.66,   67.  ],\n",
              "       [  17.  ,   51.9 ,  454.  ,  515.  ,    9.  ,   12.95,   86.  ],\n",
              "       [  56.  ,   49.1 ,  412.  ,  158.  ,    9.  ,   43.37,  127.  ],\n",
              "       [  36.  ,   54.  ,   80.  ,   80.  ,    9.  ,   40.25,  114.  ],\n",
              "       [  29.  ,   57.3 ,  434.  ,  757.  ,    9.3 ,   38.89,  111.  ],\n",
              "       [  14.  ,   68.4 ,  136.  ,  529.  ,    8.8 ,   54.47,  116.  ],\n",
              "       [  10.  ,   75.5 ,  207.  ,  335.  ,    9.  ,   59.8 ,  128.  ],\n",
              "       [  24.  ,   61.5 ,  368.  ,  497.  ,    9.1 ,   48.34,  115.  ],\n",
              "       [ 110.  ,   50.6 , 3344.  , 3369.  ,   10.4 ,   34.44,  122.  ],\n",
              "       [  28.  ,   52.3 ,  361.  ,  746.  ,    9.7 ,   38.74,  121.  ],\n",
              "       [  17.  ,   49.  ,  104.  ,  201.  ,   11.2 ,   30.85,  103.  ],\n",
              "       [   8.  ,   56.6 ,  125.  ,  277.  ,   12.7 ,   30.58,   82.  ],\n",
              "       [  30.  ,   55.6 ,  291.  ,  593.  ,    8.3 ,   43.11,  123.  ],\n",
              "       [   9.  ,   68.3 ,  204.  ,  361.  ,    8.4 ,   56.77,  113.  ],\n",
              "       [  47.  ,   55.  ,  625.  ,  905.  ,    9.6 ,   41.31,  111.  ],\n",
              "       [  35.  ,   49.9 , 1064.  , 1513.  ,   10.1 ,   30.96,  129.  ],\n",
              "       [  29.  ,   43.5 ,  699.  ,  744.  ,   10.6 ,   25.94,  137.  ],\n",
              "       [  14.  ,   54.5 ,  381.  ,  507.  ,   10.  ,   37.  ,   99.  ],\n",
              "       [  56.  ,   55.9 ,  775.  ,  622.  ,    9.5 ,   35.89,  105.  ],\n",
              "       [  14.  ,   51.5 ,  181.  ,  347.  ,   10.9 ,   30.18,   98.  ],\n",
              "       [  11.  ,   56.8 ,   46.  ,  244.  ,    8.9 ,    7.77,   58.  ],\n",
              "       [  46.  ,   47.6 ,   44.  ,  116.  ,    8.8 ,   33.36,  135.  ],\n",
              "       [  11.  ,   47.1 ,  391.  ,  463.  ,   12.4 ,   36.11,  166.  ],\n",
              "       [  23.  ,   54.  ,  462.  ,  453.  ,    7.1 ,   39.04,  132.  ],\n",
              "       [  65.  ,   49.7 , 1007.  ,  751.  ,   10.9 ,   34.99,  155.  ],\n",
              "       [  26.  ,   51.5 ,  266.  ,  540.  ,    8.6 ,   37.01,  134.  ],\n",
              "       [  69.  ,   54.6 , 1692.  , 1950.  ,    9.6 ,   39.93,  115.  ],\n",
              "       [  61.  ,   50.4 ,  347.  ,  520.  ,    9.4 ,   36.22,  147.  ],\n",
              "       [  94.  ,   50.  ,  343.  ,  179.  ,   10.6 ,   42.75,  125.  ],\n",
              "       [  10.  ,   61.6 ,  337.  ,  624.  ,    9.2 ,   49.1 ,  105.  ],\n",
              "       [  18.  ,   59.4 ,  275.  ,  448.  ,    7.9 ,   46.  ,  119.  ],\n",
              "       [   9.  ,   66.2 ,  641.  ,  844.  ,   10.9 ,   35.94,   78.  ],\n",
              "       [  10.  ,   68.9 ,  721.  , 1233.  ,   10.8 ,   48.19,  103.  ],\n",
              "       [  28.  ,   51.  ,  137.  ,  176.  ,    8.7 ,   15.17,   89.  ],\n",
              "       [  31.  ,   59.3 ,   96.  ,  308.  ,   10.6 ,   44.68,  116.  ],\n",
              "       [  26.  ,   57.8 ,  197.  ,  299.  ,    7.6 ,   42.59,  115.  ],\n",
              "       [  29.  ,   51.1 ,  379.  ,  531.  ,    9.4 ,   38.79,  164.  ],\n",
              "       [  31.  ,   55.2 ,   35.  ,   71.  ,    6.5 ,   40.75,  148.  ],\n",
              "       [  16.  ,   45.7 ,  569.  ,  717.  ,   11.8 ,   29.07,  123.  ]])"
            ]
          },
          "metadata": {},
          "execution_count": 11
        }
      ]
    },
    {
      "cell_type": "code",
      "metadata": {
        "id": "2AVYj0kde9LY",
        "colab": {
          "base_uri": "https://localhost:8080/"
        },
        "outputId": "297fd29a-15c2-4dbb-d701-ecaace9dd980"
      },
      "source": [
        "datos['Temperatura'].head"
      ],
      "execution_count": null,
      "outputs": [
        {
          "output_type": "execute_result",
          "data": {
            "text/plain": [
              "<bound method NDFrame.head of 0     70.3\n",
              "1     61.0\n",
              "2     56.7\n",
              "3     51.9\n",
              "4     49.1\n",
              "5     54.0\n",
              "6     57.3\n",
              "7     68.4\n",
              "8     75.5\n",
              "9     61.5\n",
              "10    50.6\n",
              "11    52.3\n",
              "12    49.0\n",
              "13    56.6\n",
              "14    55.6\n",
              "15    68.3\n",
              "16    55.0\n",
              "17    49.9\n",
              "18    43.5\n",
              "19    54.5\n",
              "20    55.9\n",
              "21    51.5\n",
              "22    56.8\n",
              "23    47.6\n",
              "24    47.1\n",
              "25    54.0\n",
              "26    49.7\n",
              "27    51.5\n",
              "28    54.6\n",
              "29    50.4\n",
              "30    50.0\n",
              "31    61.6\n",
              "32    59.4\n",
              "33    66.2\n",
              "34    68.9\n",
              "35    51.0\n",
              "36    59.3\n",
              "37    57.8\n",
              "38    51.1\n",
              "39    55.2\n",
              "40    45.7\n",
              "Name: Temperatura, dtype: float64>"
            ]
          },
          "metadata": {},
          "execution_count": 12
        }
      ]
    },
    {
      "cell_type": "code",
      "metadata": {
        "colab": {
          "base_uri": "https://localhost:8080/"
        },
        "id": "y8ma-0B7eRtd",
        "outputId": "02ea7f38-a707-4df0-bdbf-67254c4cb24b"
      },
      "source": [
        "#Series: almacena una columna \n",
        "s = datos.Contaminacion_SO2\n",
        "type(s)"
      ],
      "execution_count": null,
      "outputs": [
        {
          "output_type": "execute_result",
          "data": {
            "text/plain": [
              "pandas.core.series.Series"
            ]
          },
          "metadata": {},
          "execution_count": 13
        }
      ]
    },
    {
      "cell_type": "code",
      "metadata": {
        "colab": {
          "base_uri": "https://localhost:8080/"
        },
        "id": "7IBVF6ulepnQ",
        "outputId": "97d4ebc4-7fc5-4f64-ba1f-a560f63d7d3a"
      },
      "source": [
        "s.dtype"
      ],
      "execution_count": null,
      "outputs": [
        {
          "output_type": "execute_result",
          "data": {
            "text/plain": [
              "dtype('int64')"
            ]
          },
          "metadata": {},
          "execution_count": 14
        }
      ]
    },
    {
      "cell_type": "code",
      "metadata": {
        "colab": {
          "base_uri": "https://localhost:8080/"
        },
        "id": "Rd2dJNL0eskz",
        "outputId": "8e0f9065-5e8b-48a5-ea92-b3259e8b247c"
      },
      "source": [
        "s.values"
      ],
      "execution_count": null,
      "outputs": [
        {
          "output_type": "execute_result",
          "data": {
            "text/plain": [
              "array([ 10,  13,  12,  17,  56,  36,  29,  14,  10,  24, 110,  28,  17,\n",
              "         8,  30,   9,  47,  35,  29,  14,  56,  14,  11,  46,  11,  23,\n",
              "        65,  26,  69,  61,  94,  10,  18,   9,  10,  28,  31,  26,  29,\n",
              "        31,  16])"
            ]
          },
          "metadata": {},
          "execution_count": 15
        }
      ]
    },
    {
      "cell_type": "code",
      "metadata": {
        "colab": {
          "base_uri": "https://localhost:8080/"
        },
        "id": "vjgG_HNae5oY",
        "outputId": "83db9233-af25-49ca-b677-66369a0b6a60"
      },
      "source": [
        "s.describe()"
      ],
      "execution_count": null,
      "outputs": [
        {
          "output_type": "execute_result",
          "data": {
            "text/plain": [
              "count     41.000000\n",
              "mean      30.048780\n",
              "std       23.472272\n",
              "min        8.000000\n",
              "25%       13.000000\n",
              "50%       26.000000\n",
              "75%       35.000000\n",
              "max      110.000000\n",
              "Name: Contaminacion_SO2, dtype: float64"
            ]
          },
          "metadata": {},
          "execution_count": 16
        }
      ]
    },
    {
      "cell_type": "code",
      "metadata": {
        "colab": {
          "base_uri": "https://localhost:8080/"
        },
        "id": "ccrT9ayxfOc9",
        "outputId": "863ce862-641d-4ac2-c351-9322eb0603eb"
      },
      "source": [
        "s.mean()"
      ],
      "execution_count": null,
      "outputs": [
        {
          "output_type": "execute_result",
          "data": {
            "text/plain": [
              "30.048780487804876"
            ]
          },
          "metadata": {},
          "execution_count": 17
        }
      ]
    },
    {
      "cell_type": "code",
      "metadata": {
        "colab": {
          "base_uri": "https://localhost:8080/"
        },
        "id": "O2opUM6MfRgM",
        "outputId": "3e6d5d46-7ac5-4a0d-9ee4-643c9f8a4085"
      },
      "source": [
        "s.sum()"
      ],
      "execution_count": null,
      "outputs": [
        {
          "output_type": "execute_result",
          "data": {
            "text/plain": [
              "1232"
            ]
          },
          "metadata": {},
          "execution_count": 18
        }
      ]
    },
    {
      "cell_type": "code",
      "metadata": {
        "colab": {
          "base_uri": "https://localhost:8080/"
        },
        "id": "jq-N3NPffXKm",
        "outputId": "02396040-5d43-4da9-8d5e-90d1f9470e29"
      },
      "source": [
        "s.value_counts()"
      ],
      "execution_count": null,
      "outputs": [
        {
          "output_type": "execute_result",
          "data": {
            "text/plain": [
              "10     4\n",
              "14     3\n",
              "29     3\n",
              "9      2\n",
              "31     2\n",
              "28     2\n",
              "26     2\n",
              "11     2\n",
              "56     2\n",
              "17     2\n",
              "61     1\n",
              "46     1\n",
              "69     1\n",
              "8      1\n",
              "12     1\n",
              "13     1\n",
              "23     1\n",
              "16     1\n",
              "18     1\n",
              "24     1\n",
              "94     1\n",
              "30     1\n",
              "35     1\n",
              "36     1\n",
              "110    1\n",
              "47     1\n",
              "65     1\n",
              "Name: Contaminacion_SO2, dtype: int64"
            ]
          },
          "metadata": {},
          "execution_count": 19
        }
      ]
    },
    {
      "cell_type": "code",
      "metadata": {
        "colab": {
          "base_uri": "https://localhost:8080/"
        },
        "id": "J3AKzG8TfdwU",
        "outputId": "d9888736-fc76-4ca3-a707-5e364f2400fe"
      },
      "source": [
        "s.unique()"
      ],
      "execution_count": null,
      "outputs": [
        {
          "output_type": "execute_result",
          "data": {
            "text/plain": [
              "array([ 10,  13,  12,  17,  56,  36,  29,  14,  24, 110,  28,   8,  30,\n",
              "         9,  47,  35,  11,  46,  23,  65,  26,  69,  61,  94,  18,  31,\n",
              "        16])"
            ]
          },
          "metadata": {},
          "execution_count": 20
        }
      ]
    },
    {
      "cell_type": "code",
      "metadata": {
        "colab": {
          "base_uri": "https://localhost:8080/"
        },
        "id": "r1ATqtl1fm1f",
        "outputId": "28711a8a-a881-459c-c480-d47a987eee26"
      },
      "source": [
        "s.sort_values(ascending=False)"
      ],
      "execution_count": null,
      "outputs": [
        {
          "output_type": "execute_result",
          "data": {
            "text/plain": [
              "10    110\n",
              "30     94\n",
              "28     69\n",
              "26     65\n",
              "29     61\n",
              "20     56\n",
              "4      56\n",
              "16     47\n",
              "23     46\n",
              "5      36\n",
              "17     35\n",
              "36     31\n",
              "39     31\n",
              "14     30\n",
              "18     29\n",
              "6      29\n",
              "38     29\n",
              "35     28\n",
              "11     28\n",
              "27     26\n",
              "37     26\n",
              "9      24\n",
              "25     23\n",
              "32     18\n",
              "3      17\n",
              "12     17\n",
              "40     16\n",
              "19     14\n",
              "21     14\n",
              "7      14\n",
              "1      13\n",
              "2      12\n",
              "22     11\n",
              "24     11\n",
              "8      10\n",
              "31     10\n",
              "34     10\n",
              "0      10\n",
              "15      9\n",
              "33      9\n",
              "13      8\n",
              "Name: Contaminacion_SO2, dtype: int64"
            ]
          },
          "metadata": {},
          "execution_count": 21
        }
      ]
    },
    {
      "cell_type": "code",
      "metadata": {
        "colab": {
          "base_uri": "https://localhost:8080/"
        },
        "id": "9P-7Fb2JftKK",
        "outputId": "a435e0bf-eba4-4e5d-ddef-7a00f15ad34e"
      },
      "source": [
        "s.sort_values(ascending=True).head(10)"
      ],
      "execution_count": null,
      "outputs": [
        {
          "output_type": "execute_result",
          "data": {
            "text/plain": [
              "13     8\n",
              "33     9\n",
              "15     9\n",
              "0     10\n",
              "34    10\n",
              "31    10\n",
              "8     10\n",
              "24    11\n",
              "22    11\n",
              "2     12\n",
              "Name: Contaminacion_SO2, dtype: int64"
            ]
          },
          "metadata": {},
          "execution_count": 22
        }
      ]
    },
    {
      "cell_type": "code",
      "metadata": {
        "colab": {
          "base_uri": "https://localhost:8080/"
        },
        "id": "LOLCzf-If06n",
        "outputId": "e28c5ffb-282c-4ad3-eb0f-29e79cc2f7cc"
      },
      "source": [
        "s[9:16]"
      ],
      "execution_count": null,
      "outputs": [
        {
          "output_type": "execute_result",
          "data": {
            "text/plain": [
              "9      24\n",
              "10    110\n",
              "11     28\n",
              "12     17\n",
              "13      8\n",
              "14     30\n",
              "15      9\n",
              "Name: Contaminacion_SO2, dtype: int64"
            ]
          },
          "metadata": {},
          "execution_count": 23
        }
      ]
    },
    {
      "cell_type": "code",
      "metadata": {
        "colab": {
          "base_uri": "https://localhost:8080/",
          "height": 204
        },
        "id": "MZJJG-OggU71",
        "outputId": "2737853e-f5d1-4110-a4af-38e1e597d63e"
      },
      "source": [
        "#Filas 3 a 8, Columnas 2 a 6\n",
        "datos.iloc[3:8,2:6]"
      ],
      "execution_count": null,
      "outputs": [
        {
          "output_type": "execute_result",
          "data": {
            "text/html": [
              "<div>\n",
              "<style scoped>\n",
              "    .dataframe tbody tr th:only-of-type {\n",
              "        vertical-align: middle;\n",
              "    }\n",
              "\n",
              "    .dataframe tbody tr th {\n",
              "        vertical-align: top;\n",
              "    }\n",
              "\n",
              "    .dataframe thead th {\n",
              "        text-align: right;\n",
              "    }\n",
              "</style>\n",
              "<table border=\"1\" class=\"dataframe\">\n",
              "  <thead>\n",
              "    <tr style=\"text-align: right;\">\n",
              "      <th></th>\n",
              "      <th>Fabricas</th>\n",
              "      <th>Habitantes</th>\n",
              "      <th>Velocidad_viento</th>\n",
              "      <th>Lluvia</th>\n",
              "    </tr>\n",
              "  </thead>\n",
              "  <tbody>\n",
              "    <tr>\n",
              "      <th>3</th>\n",
              "      <td>454</td>\n",
              "      <td>515</td>\n",
              "      <td>9.0</td>\n",
              "      <td>12.95</td>\n",
              "    </tr>\n",
              "    <tr>\n",
              "      <th>4</th>\n",
              "      <td>412</td>\n",
              "      <td>158</td>\n",
              "      <td>9.0</td>\n",
              "      <td>43.37</td>\n",
              "    </tr>\n",
              "    <tr>\n",
              "      <th>5</th>\n",
              "      <td>80</td>\n",
              "      <td>80</td>\n",
              "      <td>9.0</td>\n",
              "      <td>40.25</td>\n",
              "    </tr>\n",
              "    <tr>\n",
              "      <th>6</th>\n",
              "      <td>434</td>\n",
              "      <td>757</td>\n",
              "      <td>9.3</td>\n",
              "      <td>38.89</td>\n",
              "    </tr>\n",
              "    <tr>\n",
              "      <th>7</th>\n",
              "      <td>136</td>\n",
              "      <td>529</td>\n",
              "      <td>8.8</td>\n",
              "      <td>54.47</td>\n",
              "    </tr>\n",
              "  </tbody>\n",
              "</table>\n",
              "</div>"
            ],
            "text/plain": [
              "   Fabricas  Habitantes  Velocidad_viento  Lluvia\n",
              "3       454         515               9.0   12.95\n",
              "4       412         158               9.0   43.37\n",
              "5        80          80               9.0   40.25\n",
              "6       434         757               9.3   38.89\n",
              "7       136         529               8.8   54.47"
            ]
          },
          "metadata": {},
          "execution_count": 24
        }
      ]
    },
    {
      "cell_type": "code",
      "metadata": {
        "colab": {
          "base_uri": "https://localhost:8080/",
          "height": 204
        },
        "id": "RGVewHOlhJU4",
        "outputId": "2771208e-e822-4cdd-9a28-b274f587e928"
      },
      "source": [
        "datos[0:5]"
      ],
      "execution_count": null,
      "outputs": [
        {
          "output_type": "execute_result",
          "data": {
            "text/html": [
              "<div>\n",
              "<style scoped>\n",
              "    .dataframe tbody tr th:only-of-type {\n",
              "        vertical-align: middle;\n",
              "    }\n",
              "\n",
              "    .dataframe tbody tr th {\n",
              "        vertical-align: top;\n",
              "    }\n",
              "\n",
              "    .dataframe thead th {\n",
              "        text-align: right;\n",
              "    }\n",
              "</style>\n",
              "<table border=\"1\" class=\"dataframe\">\n",
              "  <thead>\n",
              "    <tr style=\"text-align: right;\">\n",
              "      <th></th>\n",
              "      <th>Contaminacion_SO2</th>\n",
              "      <th>Temperatura</th>\n",
              "      <th>Fabricas</th>\n",
              "      <th>Habitantes</th>\n",
              "      <th>Velocidad_viento</th>\n",
              "      <th>Lluvia</th>\n",
              "      <th>Dias_Lluvia</th>\n",
              "    </tr>\n",
              "  </thead>\n",
              "  <tbody>\n",
              "    <tr>\n",
              "      <th>0</th>\n",
              "      <td>10</td>\n",
              "      <td>70.3</td>\n",
              "      <td>213</td>\n",
              "      <td>582</td>\n",
              "      <td>6.0</td>\n",
              "      <td>7.05</td>\n",
              "      <td>36</td>\n",
              "    </tr>\n",
              "    <tr>\n",
              "      <th>1</th>\n",
              "      <td>13</td>\n",
              "      <td>61.0</td>\n",
              "      <td>91</td>\n",
              "      <td>132</td>\n",
              "      <td>8.2</td>\n",
              "      <td>48.52</td>\n",
              "      <td>100</td>\n",
              "    </tr>\n",
              "    <tr>\n",
              "      <th>2</th>\n",
              "      <td>12</td>\n",
              "      <td>56.7</td>\n",
              "      <td>453</td>\n",
              "      <td>716</td>\n",
              "      <td>8.7</td>\n",
              "      <td>20.66</td>\n",
              "      <td>67</td>\n",
              "    </tr>\n",
              "    <tr>\n",
              "      <th>3</th>\n",
              "      <td>17</td>\n",
              "      <td>51.9</td>\n",
              "      <td>454</td>\n",
              "      <td>515</td>\n",
              "      <td>9.0</td>\n",
              "      <td>12.95</td>\n",
              "      <td>86</td>\n",
              "    </tr>\n",
              "    <tr>\n",
              "      <th>4</th>\n",
              "      <td>56</td>\n",
              "      <td>49.1</td>\n",
              "      <td>412</td>\n",
              "      <td>158</td>\n",
              "      <td>9.0</td>\n",
              "      <td>43.37</td>\n",
              "      <td>127</td>\n",
              "    </tr>\n",
              "  </tbody>\n",
              "</table>\n",
              "</div>"
            ],
            "text/plain": [
              "   Contaminacion_SO2  Temperatura  ...  Lluvia  Dias_Lluvia\n",
              "0                 10         70.3  ...    7.05           36\n",
              "1                 13         61.0  ...   48.52          100\n",
              "2                 12         56.7  ...   20.66           67\n",
              "3                 17         51.9  ...   12.95           86\n",
              "4                 56         49.1  ...   43.37          127\n",
              "\n",
              "[5 rows x 7 columns]"
            ]
          },
          "metadata": {},
          "execution_count": 25
        }
      ]
    },
    {
      "cell_type": "code",
      "metadata": {
        "colab": {
          "base_uri": "https://localhost:8080/"
        },
        "id": "DZ9F7HbPhVxU",
        "outputId": "fcb78dd9-d594-44db-ad97-c0c326dc5984"
      },
      "source": [
        "s = datos.Dias_Lluvia\n",
        "s.values"
      ],
      "execution_count": null,
      "outputs": [
        {
          "output_type": "execute_result",
          "data": {
            "text/plain": [
              "array([ 36, 100,  67,  86, 127, 114, 111, 116, 128, 115, 122, 121, 103,\n",
              "        82, 123, 113, 111, 129, 137,  99, 105,  98,  58, 135, 166, 132,\n",
              "       155, 134, 115, 147, 125, 105, 119,  78, 103,  89, 116, 115, 164,\n",
              "       148, 123])"
            ]
          },
          "metadata": {},
          "execution_count": 26
        }
      ]
    },
    {
      "cell_type": "code",
      "metadata": {
        "colab": {
          "base_uri": "https://localhost:8080/"
        },
        "id": "Qf_yrQpXiRLO",
        "outputId": "a55c8d30-6c55-45ff-f350-2226ffb3c069"
      },
      "source": [
        "s.value_counts()"
      ],
      "execution_count": null,
      "outputs": [
        {
          "output_type": "execute_result",
          "data": {
            "text/plain": [
              "115    3\n",
              "105    2\n",
              "123    2\n",
              "116    2\n",
              "103    2\n",
              "111    2\n",
              "127    1\n",
              "148    1\n",
              "147    1\n",
              "82     1\n",
              "100    1\n",
              "78     1\n",
              "137    1\n",
              "89     1\n",
              "135    1\n",
              "134    1\n",
              "132    1\n",
              "67     1\n",
              "129    1\n",
              "86     1\n",
              "99     1\n",
              "155    1\n",
              "98     1\n",
              "125    1\n",
              "36     1\n",
              "166    1\n",
              "58     1\n",
              "113    1\n",
              "114    1\n",
              "119    1\n",
              "164    1\n",
              "121    1\n",
              "122    1\n",
              "128    1\n",
              "Name: Dias_Lluvia, dtype: int64"
            ]
          },
          "metadata": {},
          "execution_count": 27
        }
      ]
    },
    {
      "cell_type": "code",
      "metadata": {
        "id": "mHlOtyxEiZtO"
      },
      "source": [
        "grupo = datos.groupby('Dias_Lluvia')"
      ],
      "execution_count": null,
      "outputs": []
    },
    {
      "cell_type": "code",
      "metadata": {
        "colab": {
          "base_uri": "https://localhost:8080/",
          "height": 1000
        },
        "id": "Y15X114lio04",
        "outputId": "c5b341be-eec6-4740-8d18-2e9a7c5d29ec"
      },
      "source": [
        "grupo.mean()"
      ],
      "execution_count": null,
      "outputs": [
        {
          "output_type": "execute_result",
          "data": {
            "text/html": [
              "<div>\n",
              "<style scoped>\n",
              "    .dataframe tbody tr th:only-of-type {\n",
              "        vertical-align: middle;\n",
              "    }\n",
              "\n",
              "    .dataframe tbody tr th {\n",
              "        vertical-align: top;\n",
              "    }\n",
              "\n",
              "    .dataframe thead th {\n",
              "        text-align: right;\n",
              "    }\n",
              "</style>\n",
              "<table border=\"1\" class=\"dataframe\">\n",
              "  <thead>\n",
              "    <tr style=\"text-align: right;\">\n",
              "      <th></th>\n",
              "      <th>Contaminacion_SO2</th>\n",
              "      <th>Temperatura</th>\n",
              "      <th>Fabricas</th>\n",
              "      <th>Habitantes</th>\n",
              "      <th>Velocidad_viento</th>\n",
              "      <th>Lluvia</th>\n",
              "    </tr>\n",
              "    <tr>\n",
              "      <th>Dias_Lluvia</th>\n",
              "      <th></th>\n",
              "      <th></th>\n",
              "      <th></th>\n",
              "      <th></th>\n",
              "      <th></th>\n",
              "      <th></th>\n",
              "    </tr>\n",
              "  </thead>\n",
              "  <tbody>\n",
              "    <tr>\n",
              "      <th>36</th>\n",
              "      <td>10.000000</td>\n",
              "      <td>70.300000</td>\n",
              "      <td>213.000000</td>\n",
              "      <td>582.000000</td>\n",
              "      <td>6.000000</td>\n",
              "      <td>7.050</td>\n",
              "    </tr>\n",
              "    <tr>\n",
              "      <th>58</th>\n",
              "      <td>11.000000</td>\n",
              "      <td>56.800000</td>\n",
              "      <td>46.000000</td>\n",
              "      <td>244.000000</td>\n",
              "      <td>8.900000</td>\n",
              "      <td>7.770</td>\n",
              "    </tr>\n",
              "    <tr>\n",
              "      <th>67</th>\n",
              "      <td>12.000000</td>\n",
              "      <td>56.700000</td>\n",
              "      <td>453.000000</td>\n",
              "      <td>716.000000</td>\n",
              "      <td>8.700000</td>\n",
              "      <td>20.660</td>\n",
              "    </tr>\n",
              "    <tr>\n",
              "      <th>78</th>\n",
              "      <td>9.000000</td>\n",
              "      <td>66.200000</td>\n",
              "      <td>641.000000</td>\n",
              "      <td>844.000000</td>\n",
              "      <td>10.900000</td>\n",
              "      <td>35.940</td>\n",
              "    </tr>\n",
              "    <tr>\n",
              "      <th>82</th>\n",
              "      <td>8.000000</td>\n",
              "      <td>56.600000</td>\n",
              "      <td>125.000000</td>\n",
              "      <td>277.000000</td>\n",
              "      <td>12.700000</td>\n",
              "      <td>30.580</td>\n",
              "    </tr>\n",
              "    <tr>\n",
              "      <th>86</th>\n",
              "      <td>17.000000</td>\n",
              "      <td>51.900000</td>\n",
              "      <td>454.000000</td>\n",
              "      <td>515.000000</td>\n",
              "      <td>9.000000</td>\n",
              "      <td>12.950</td>\n",
              "    </tr>\n",
              "    <tr>\n",
              "      <th>89</th>\n",
              "      <td>28.000000</td>\n",
              "      <td>51.000000</td>\n",
              "      <td>137.000000</td>\n",
              "      <td>176.000000</td>\n",
              "      <td>8.700000</td>\n",
              "      <td>15.170</td>\n",
              "    </tr>\n",
              "    <tr>\n",
              "      <th>98</th>\n",
              "      <td>14.000000</td>\n",
              "      <td>51.500000</td>\n",
              "      <td>181.000000</td>\n",
              "      <td>347.000000</td>\n",
              "      <td>10.900000</td>\n",
              "      <td>30.180</td>\n",
              "    </tr>\n",
              "    <tr>\n",
              "      <th>99</th>\n",
              "      <td>14.000000</td>\n",
              "      <td>54.500000</td>\n",
              "      <td>381.000000</td>\n",
              "      <td>507.000000</td>\n",
              "      <td>10.000000</td>\n",
              "      <td>37.000</td>\n",
              "    </tr>\n",
              "    <tr>\n",
              "      <th>100</th>\n",
              "      <td>13.000000</td>\n",
              "      <td>61.000000</td>\n",
              "      <td>91.000000</td>\n",
              "      <td>132.000000</td>\n",
              "      <td>8.200000</td>\n",
              "      <td>48.520</td>\n",
              "    </tr>\n",
              "    <tr>\n",
              "      <th>103</th>\n",
              "      <td>13.500000</td>\n",
              "      <td>58.950000</td>\n",
              "      <td>412.500000</td>\n",
              "      <td>717.000000</td>\n",
              "      <td>11.000000</td>\n",
              "      <td>39.520</td>\n",
              "    </tr>\n",
              "    <tr>\n",
              "      <th>105</th>\n",
              "      <td>33.000000</td>\n",
              "      <td>58.750000</td>\n",
              "      <td>556.000000</td>\n",
              "      <td>623.000000</td>\n",
              "      <td>9.350000</td>\n",
              "      <td>42.495</td>\n",
              "    </tr>\n",
              "    <tr>\n",
              "      <th>111</th>\n",
              "      <td>38.000000</td>\n",
              "      <td>56.150000</td>\n",
              "      <td>529.500000</td>\n",
              "      <td>831.000000</td>\n",
              "      <td>9.450000</td>\n",
              "      <td>40.100</td>\n",
              "    </tr>\n",
              "    <tr>\n",
              "      <th>113</th>\n",
              "      <td>9.000000</td>\n",
              "      <td>68.300000</td>\n",
              "      <td>204.000000</td>\n",
              "      <td>361.000000</td>\n",
              "      <td>8.400000</td>\n",
              "      <td>56.770</td>\n",
              "    </tr>\n",
              "    <tr>\n",
              "      <th>114</th>\n",
              "      <td>36.000000</td>\n",
              "      <td>54.000000</td>\n",
              "      <td>80.000000</td>\n",
              "      <td>80.000000</td>\n",
              "      <td>9.000000</td>\n",
              "      <td>40.250</td>\n",
              "    </tr>\n",
              "    <tr>\n",
              "      <th>115</th>\n",
              "      <td>39.666667</td>\n",
              "      <td>57.966667</td>\n",
              "      <td>752.333333</td>\n",
              "      <td>915.333333</td>\n",
              "      <td>8.766667</td>\n",
              "      <td>43.620</td>\n",
              "    </tr>\n",
              "    <tr>\n",
              "      <th>116</th>\n",
              "      <td>22.500000</td>\n",
              "      <td>63.850000</td>\n",
              "      <td>116.000000</td>\n",
              "      <td>418.500000</td>\n",
              "      <td>9.700000</td>\n",
              "      <td>49.575</td>\n",
              "    </tr>\n",
              "    <tr>\n",
              "      <th>119</th>\n",
              "      <td>18.000000</td>\n",
              "      <td>59.400000</td>\n",
              "      <td>275.000000</td>\n",
              "      <td>448.000000</td>\n",
              "      <td>7.900000</td>\n",
              "      <td>46.000</td>\n",
              "    </tr>\n",
              "    <tr>\n",
              "      <th>121</th>\n",
              "      <td>28.000000</td>\n",
              "      <td>52.300000</td>\n",
              "      <td>361.000000</td>\n",
              "      <td>746.000000</td>\n",
              "      <td>9.700000</td>\n",
              "      <td>38.740</td>\n",
              "    </tr>\n",
              "    <tr>\n",
              "      <th>122</th>\n",
              "      <td>110.000000</td>\n",
              "      <td>50.600000</td>\n",
              "      <td>3344.000000</td>\n",
              "      <td>3369.000000</td>\n",
              "      <td>10.400000</td>\n",
              "      <td>34.440</td>\n",
              "    </tr>\n",
              "    <tr>\n",
              "      <th>123</th>\n",
              "      <td>23.000000</td>\n",
              "      <td>50.650000</td>\n",
              "      <td>430.000000</td>\n",
              "      <td>655.000000</td>\n",
              "      <td>10.050000</td>\n",
              "      <td>36.090</td>\n",
              "    </tr>\n",
              "    <tr>\n",
              "      <th>125</th>\n",
              "      <td>94.000000</td>\n",
              "      <td>50.000000</td>\n",
              "      <td>343.000000</td>\n",
              "      <td>179.000000</td>\n",
              "      <td>10.600000</td>\n",
              "      <td>42.750</td>\n",
              "    </tr>\n",
              "    <tr>\n",
              "      <th>127</th>\n",
              "      <td>56.000000</td>\n",
              "      <td>49.100000</td>\n",
              "      <td>412.000000</td>\n",
              "      <td>158.000000</td>\n",
              "      <td>9.000000</td>\n",
              "      <td>43.370</td>\n",
              "    </tr>\n",
              "    <tr>\n",
              "      <th>128</th>\n",
              "      <td>10.000000</td>\n",
              "      <td>75.500000</td>\n",
              "      <td>207.000000</td>\n",
              "      <td>335.000000</td>\n",
              "      <td>9.000000</td>\n",
              "      <td>59.800</td>\n",
              "    </tr>\n",
              "    <tr>\n",
              "      <th>129</th>\n",
              "      <td>35.000000</td>\n",
              "      <td>49.900000</td>\n",
              "      <td>1064.000000</td>\n",
              "      <td>1513.000000</td>\n",
              "      <td>10.100000</td>\n",
              "      <td>30.960</td>\n",
              "    </tr>\n",
              "    <tr>\n",
              "      <th>132</th>\n",
              "      <td>23.000000</td>\n",
              "      <td>54.000000</td>\n",
              "      <td>462.000000</td>\n",
              "      <td>453.000000</td>\n",
              "      <td>7.100000</td>\n",
              "      <td>39.040</td>\n",
              "    </tr>\n",
              "    <tr>\n",
              "      <th>134</th>\n",
              "      <td>26.000000</td>\n",
              "      <td>51.500000</td>\n",
              "      <td>266.000000</td>\n",
              "      <td>540.000000</td>\n",
              "      <td>8.600000</td>\n",
              "      <td>37.010</td>\n",
              "    </tr>\n",
              "    <tr>\n",
              "      <th>135</th>\n",
              "      <td>46.000000</td>\n",
              "      <td>47.600000</td>\n",
              "      <td>44.000000</td>\n",
              "      <td>116.000000</td>\n",
              "      <td>8.800000</td>\n",
              "      <td>33.360</td>\n",
              "    </tr>\n",
              "    <tr>\n",
              "      <th>137</th>\n",
              "      <td>29.000000</td>\n",
              "      <td>43.500000</td>\n",
              "      <td>699.000000</td>\n",
              "      <td>744.000000</td>\n",
              "      <td>10.600000</td>\n",
              "      <td>25.940</td>\n",
              "    </tr>\n",
              "    <tr>\n",
              "      <th>147</th>\n",
              "      <td>61.000000</td>\n",
              "      <td>50.400000</td>\n",
              "      <td>347.000000</td>\n",
              "      <td>520.000000</td>\n",
              "      <td>9.400000</td>\n",
              "      <td>36.220</td>\n",
              "    </tr>\n",
              "    <tr>\n",
              "      <th>148</th>\n",
              "      <td>31.000000</td>\n",
              "      <td>55.200000</td>\n",
              "      <td>35.000000</td>\n",
              "      <td>71.000000</td>\n",
              "      <td>6.500000</td>\n",
              "      <td>40.750</td>\n",
              "    </tr>\n",
              "    <tr>\n",
              "      <th>155</th>\n",
              "      <td>65.000000</td>\n",
              "      <td>49.700000</td>\n",
              "      <td>1007.000000</td>\n",
              "      <td>751.000000</td>\n",
              "      <td>10.900000</td>\n",
              "      <td>34.990</td>\n",
              "    </tr>\n",
              "    <tr>\n",
              "      <th>164</th>\n",
              "      <td>29.000000</td>\n",
              "      <td>51.100000</td>\n",
              "      <td>379.000000</td>\n",
              "      <td>531.000000</td>\n",
              "      <td>9.400000</td>\n",
              "      <td>38.790</td>\n",
              "    </tr>\n",
              "    <tr>\n",
              "      <th>166</th>\n",
              "      <td>11.000000</td>\n",
              "      <td>47.100000</td>\n",
              "      <td>391.000000</td>\n",
              "      <td>463.000000</td>\n",
              "      <td>12.400000</td>\n",
              "      <td>36.110</td>\n",
              "    </tr>\n",
              "  </tbody>\n",
              "</table>\n",
              "</div>"
            ],
            "text/plain": [
              "             Contaminacion_SO2  Temperatura  ...  Velocidad_viento  Lluvia\n",
              "Dias_Lluvia                                  ...                          \n",
              "36                   10.000000    70.300000  ...          6.000000   7.050\n",
              "58                   11.000000    56.800000  ...          8.900000   7.770\n",
              "67                   12.000000    56.700000  ...          8.700000  20.660\n",
              "78                    9.000000    66.200000  ...         10.900000  35.940\n",
              "82                    8.000000    56.600000  ...         12.700000  30.580\n",
              "86                   17.000000    51.900000  ...          9.000000  12.950\n",
              "89                   28.000000    51.000000  ...          8.700000  15.170\n",
              "98                   14.000000    51.500000  ...         10.900000  30.180\n",
              "99                   14.000000    54.500000  ...         10.000000  37.000\n",
              "100                  13.000000    61.000000  ...          8.200000  48.520\n",
              "103                  13.500000    58.950000  ...         11.000000  39.520\n",
              "105                  33.000000    58.750000  ...          9.350000  42.495\n",
              "111                  38.000000    56.150000  ...          9.450000  40.100\n",
              "113                   9.000000    68.300000  ...          8.400000  56.770\n",
              "114                  36.000000    54.000000  ...          9.000000  40.250\n",
              "115                  39.666667    57.966667  ...          8.766667  43.620\n",
              "116                  22.500000    63.850000  ...          9.700000  49.575\n",
              "119                  18.000000    59.400000  ...          7.900000  46.000\n",
              "121                  28.000000    52.300000  ...          9.700000  38.740\n",
              "122                 110.000000    50.600000  ...         10.400000  34.440\n",
              "123                  23.000000    50.650000  ...         10.050000  36.090\n",
              "125                  94.000000    50.000000  ...         10.600000  42.750\n",
              "127                  56.000000    49.100000  ...          9.000000  43.370\n",
              "128                  10.000000    75.500000  ...          9.000000  59.800\n",
              "129                  35.000000    49.900000  ...         10.100000  30.960\n",
              "132                  23.000000    54.000000  ...          7.100000  39.040\n",
              "134                  26.000000    51.500000  ...          8.600000  37.010\n",
              "135                  46.000000    47.600000  ...          8.800000  33.360\n",
              "137                  29.000000    43.500000  ...         10.600000  25.940\n",
              "147                  61.000000    50.400000  ...          9.400000  36.220\n",
              "148                  31.000000    55.200000  ...          6.500000  40.750\n",
              "155                  65.000000    49.700000  ...         10.900000  34.990\n",
              "164                  29.000000    51.100000  ...          9.400000  38.790\n",
              "166                  11.000000    47.100000  ...         12.400000  36.110\n",
              "\n",
              "[34 rows x 6 columns]"
            ]
          },
          "metadata": {},
          "execution_count": 29
        }
      ]
    },
    {
      "cell_type": "code",
      "metadata": {
        "colab": {
          "base_uri": "https://localhost:8080/",
          "height": 390
        },
        "id": "RsFuhRybjGJg",
        "outputId": "52d4dae1-0d42-415a-ce2e-ffde47bbbf8e"
      },
      "source": [
        "grupo.sum().head(10)"
      ],
      "execution_count": null,
      "outputs": [
        {
          "output_type": "execute_result",
          "data": {
            "text/html": [
              "<div>\n",
              "<style scoped>\n",
              "    .dataframe tbody tr th:only-of-type {\n",
              "        vertical-align: middle;\n",
              "    }\n",
              "\n",
              "    .dataframe tbody tr th {\n",
              "        vertical-align: top;\n",
              "    }\n",
              "\n",
              "    .dataframe thead th {\n",
              "        text-align: right;\n",
              "    }\n",
              "</style>\n",
              "<table border=\"1\" class=\"dataframe\">\n",
              "  <thead>\n",
              "    <tr style=\"text-align: right;\">\n",
              "      <th></th>\n",
              "      <th>Contaminacion_SO2</th>\n",
              "      <th>Temperatura</th>\n",
              "      <th>Fabricas</th>\n",
              "      <th>Habitantes</th>\n",
              "      <th>Velocidad_viento</th>\n",
              "      <th>Lluvia</th>\n",
              "    </tr>\n",
              "    <tr>\n",
              "      <th>Dias_Lluvia</th>\n",
              "      <th></th>\n",
              "      <th></th>\n",
              "      <th></th>\n",
              "      <th></th>\n",
              "      <th></th>\n",
              "      <th></th>\n",
              "    </tr>\n",
              "  </thead>\n",
              "  <tbody>\n",
              "    <tr>\n",
              "      <th>36</th>\n",
              "      <td>10</td>\n",
              "      <td>70.3</td>\n",
              "      <td>213</td>\n",
              "      <td>582</td>\n",
              "      <td>6.0</td>\n",
              "      <td>7.05</td>\n",
              "    </tr>\n",
              "    <tr>\n",
              "      <th>58</th>\n",
              "      <td>11</td>\n",
              "      <td>56.8</td>\n",
              "      <td>46</td>\n",
              "      <td>244</td>\n",
              "      <td>8.9</td>\n",
              "      <td>7.77</td>\n",
              "    </tr>\n",
              "    <tr>\n",
              "      <th>67</th>\n",
              "      <td>12</td>\n",
              "      <td>56.7</td>\n",
              "      <td>453</td>\n",
              "      <td>716</td>\n",
              "      <td>8.7</td>\n",
              "      <td>20.66</td>\n",
              "    </tr>\n",
              "    <tr>\n",
              "      <th>78</th>\n",
              "      <td>9</td>\n",
              "      <td>66.2</td>\n",
              "      <td>641</td>\n",
              "      <td>844</td>\n",
              "      <td>10.9</td>\n",
              "      <td>35.94</td>\n",
              "    </tr>\n",
              "    <tr>\n",
              "      <th>82</th>\n",
              "      <td>8</td>\n",
              "      <td>56.6</td>\n",
              "      <td>125</td>\n",
              "      <td>277</td>\n",
              "      <td>12.7</td>\n",
              "      <td>30.58</td>\n",
              "    </tr>\n",
              "    <tr>\n",
              "      <th>86</th>\n",
              "      <td>17</td>\n",
              "      <td>51.9</td>\n",
              "      <td>454</td>\n",
              "      <td>515</td>\n",
              "      <td>9.0</td>\n",
              "      <td>12.95</td>\n",
              "    </tr>\n",
              "    <tr>\n",
              "      <th>89</th>\n",
              "      <td>28</td>\n",
              "      <td>51.0</td>\n",
              "      <td>137</td>\n",
              "      <td>176</td>\n",
              "      <td>8.7</td>\n",
              "      <td>15.17</td>\n",
              "    </tr>\n",
              "    <tr>\n",
              "      <th>98</th>\n",
              "      <td>14</td>\n",
              "      <td>51.5</td>\n",
              "      <td>181</td>\n",
              "      <td>347</td>\n",
              "      <td>10.9</td>\n",
              "      <td>30.18</td>\n",
              "    </tr>\n",
              "    <tr>\n",
              "      <th>99</th>\n",
              "      <td>14</td>\n",
              "      <td>54.5</td>\n",
              "      <td>381</td>\n",
              "      <td>507</td>\n",
              "      <td>10.0</td>\n",
              "      <td>37.00</td>\n",
              "    </tr>\n",
              "    <tr>\n",
              "      <th>100</th>\n",
              "      <td>13</td>\n",
              "      <td>61.0</td>\n",
              "      <td>91</td>\n",
              "      <td>132</td>\n",
              "      <td>8.2</td>\n",
              "      <td>48.52</td>\n",
              "    </tr>\n",
              "  </tbody>\n",
              "</table>\n",
              "</div>"
            ],
            "text/plain": [
              "             Contaminacion_SO2  Temperatura  ...  Velocidad_viento  Lluvia\n",
              "Dias_Lluvia                                  ...                          \n",
              "36                          10         70.3  ...               6.0    7.05\n",
              "58                          11         56.8  ...               8.9    7.77\n",
              "67                          12         56.7  ...               8.7   20.66\n",
              "78                           9         66.2  ...              10.9   35.94\n",
              "82                           8         56.6  ...              12.7   30.58\n",
              "86                          17         51.9  ...               9.0   12.95\n",
              "89                          28         51.0  ...               8.7   15.17\n",
              "98                          14         51.5  ...              10.9   30.18\n",
              "99                          14         54.5  ...              10.0   37.00\n",
              "100                         13         61.0  ...               8.2   48.52\n",
              "\n",
              "[10 rows x 6 columns]"
            ]
          },
          "metadata": {},
          "execution_count": 30
        }
      ]
    },
    {
      "cell_type": "code",
      "metadata": {
        "colab": {
          "base_uri": "https://localhost:8080/"
        },
        "id": "kAYKede7jVUw",
        "outputId": "908c4ce2-641a-4214-8eb9-098e35831893"
      },
      "source": [
        "s_grupo = grupo.sum()\n",
        "cond = s_grupo.Temperatura >=65\n",
        "cond"
      ],
      "execution_count": null,
      "outputs": [
        {
          "output_type": "execute_result",
          "data": {
            "text/plain": [
              "Dias_Lluvia\n",
              "36      True\n",
              "58     False\n",
              "67     False\n",
              "78      True\n",
              "82     False\n",
              "86     False\n",
              "89     False\n",
              "98     False\n",
              "99     False\n",
              "100    False\n",
              "103     True\n",
              "105     True\n",
              "111     True\n",
              "113     True\n",
              "114    False\n",
              "115     True\n",
              "116     True\n",
              "119    False\n",
              "121    False\n",
              "122    False\n",
              "123     True\n",
              "125    False\n",
              "127    False\n",
              "128     True\n",
              "129    False\n",
              "132    False\n",
              "134    False\n",
              "135    False\n",
              "137    False\n",
              "147    False\n",
              "148    False\n",
              "155    False\n",
              "164    False\n",
              "166    False\n",
              "Name: Temperatura, dtype: bool"
            ]
          },
          "metadata": {},
          "execution_count": 31
        }
      ]
    },
    {
      "cell_type": "code",
      "metadata": {
        "colab": {
          "base_uri": "https://localhost:8080/",
          "height": 390
        },
        "id": "xXmM9izljYzF",
        "outputId": "bba6e9b3-e954-41df-c4ba-726cad1c0542"
      },
      "source": [
        "s_grupo[cond]"
      ],
      "execution_count": null,
      "outputs": [
        {
          "output_type": "execute_result",
          "data": {
            "text/html": [
              "<div>\n",
              "<style scoped>\n",
              "    .dataframe tbody tr th:only-of-type {\n",
              "        vertical-align: middle;\n",
              "    }\n",
              "\n",
              "    .dataframe tbody tr th {\n",
              "        vertical-align: top;\n",
              "    }\n",
              "\n",
              "    .dataframe thead th {\n",
              "        text-align: right;\n",
              "    }\n",
              "</style>\n",
              "<table border=\"1\" class=\"dataframe\">\n",
              "  <thead>\n",
              "    <tr style=\"text-align: right;\">\n",
              "      <th></th>\n",
              "      <th>Contaminacion_SO2</th>\n",
              "      <th>Temperatura</th>\n",
              "      <th>Fabricas</th>\n",
              "      <th>Habitantes</th>\n",
              "      <th>Velocidad_viento</th>\n",
              "      <th>Lluvia</th>\n",
              "    </tr>\n",
              "    <tr>\n",
              "      <th>Dias_Lluvia</th>\n",
              "      <th></th>\n",
              "      <th></th>\n",
              "      <th></th>\n",
              "      <th></th>\n",
              "      <th></th>\n",
              "      <th></th>\n",
              "    </tr>\n",
              "  </thead>\n",
              "  <tbody>\n",
              "    <tr>\n",
              "      <th>36</th>\n",
              "      <td>10</td>\n",
              "      <td>70.3</td>\n",
              "      <td>213</td>\n",
              "      <td>582</td>\n",
              "      <td>6.0</td>\n",
              "      <td>7.05</td>\n",
              "    </tr>\n",
              "    <tr>\n",
              "      <th>78</th>\n",
              "      <td>9</td>\n",
              "      <td>66.2</td>\n",
              "      <td>641</td>\n",
              "      <td>844</td>\n",
              "      <td>10.9</td>\n",
              "      <td>35.94</td>\n",
              "    </tr>\n",
              "    <tr>\n",
              "      <th>103</th>\n",
              "      <td>27</td>\n",
              "      <td>117.9</td>\n",
              "      <td>825</td>\n",
              "      <td>1434</td>\n",
              "      <td>22.0</td>\n",
              "      <td>79.04</td>\n",
              "    </tr>\n",
              "    <tr>\n",
              "      <th>105</th>\n",
              "      <td>66</td>\n",
              "      <td>117.5</td>\n",
              "      <td>1112</td>\n",
              "      <td>1246</td>\n",
              "      <td>18.7</td>\n",
              "      <td>84.99</td>\n",
              "    </tr>\n",
              "    <tr>\n",
              "      <th>111</th>\n",
              "      <td>76</td>\n",
              "      <td>112.3</td>\n",
              "      <td>1059</td>\n",
              "      <td>1662</td>\n",
              "      <td>18.9</td>\n",
              "      <td>80.20</td>\n",
              "    </tr>\n",
              "    <tr>\n",
              "      <th>113</th>\n",
              "      <td>9</td>\n",
              "      <td>68.3</td>\n",
              "      <td>204</td>\n",
              "      <td>361</td>\n",
              "      <td>8.4</td>\n",
              "      <td>56.77</td>\n",
              "    </tr>\n",
              "    <tr>\n",
              "      <th>115</th>\n",
              "      <td>119</td>\n",
              "      <td>173.9</td>\n",
              "      <td>2257</td>\n",
              "      <td>2746</td>\n",
              "      <td>26.3</td>\n",
              "      <td>130.86</td>\n",
              "    </tr>\n",
              "    <tr>\n",
              "      <th>116</th>\n",
              "      <td>45</td>\n",
              "      <td>127.7</td>\n",
              "      <td>232</td>\n",
              "      <td>837</td>\n",
              "      <td>19.4</td>\n",
              "      <td>99.15</td>\n",
              "    </tr>\n",
              "    <tr>\n",
              "      <th>123</th>\n",
              "      <td>46</td>\n",
              "      <td>101.3</td>\n",
              "      <td>860</td>\n",
              "      <td>1310</td>\n",
              "      <td>20.1</td>\n",
              "      <td>72.18</td>\n",
              "    </tr>\n",
              "    <tr>\n",
              "      <th>128</th>\n",
              "      <td>10</td>\n",
              "      <td>75.5</td>\n",
              "      <td>207</td>\n",
              "      <td>335</td>\n",
              "      <td>9.0</td>\n",
              "      <td>59.80</td>\n",
              "    </tr>\n",
              "  </tbody>\n",
              "</table>\n",
              "</div>"
            ],
            "text/plain": [
              "             Contaminacion_SO2  Temperatura  ...  Velocidad_viento  Lluvia\n",
              "Dias_Lluvia                                  ...                          \n",
              "36                          10         70.3  ...               6.0    7.05\n",
              "78                           9         66.2  ...              10.9   35.94\n",
              "103                         27        117.9  ...              22.0   79.04\n",
              "105                         66        117.5  ...              18.7   84.99\n",
              "111                         76        112.3  ...              18.9   80.20\n",
              "113                          9         68.3  ...               8.4   56.77\n",
              "115                        119        173.9  ...              26.3  130.86\n",
              "116                         45        127.7  ...              19.4   99.15\n",
              "123                         46        101.3  ...              20.1   72.18\n",
              "128                         10         75.5  ...               9.0   59.80\n",
              "\n",
              "[10 rows x 6 columns]"
            ]
          },
          "metadata": {},
          "execution_count": 32
        }
      ]
    },
    {
      "cell_type": "code",
      "metadata": {
        "id": "lnD2SOfZk4uu"
      },
      "source": [
        ""
      ],
      "execution_count": null,
      "outputs": []
    }
  ]
}