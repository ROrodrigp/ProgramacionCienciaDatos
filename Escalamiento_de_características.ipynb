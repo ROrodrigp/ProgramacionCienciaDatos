{
  "nbformat": 4,
  "nbformat_minor": 0,
  "metadata": {
    "colab": {
      "name": "Escalamiento de características.ipynb",
      "provenance": [],
      "collapsed_sections": [],
      "authorship_tag": "ABX9TyPMXJeVthhAwP+It/05k0YT",
      "include_colab_link": true
    },
    "kernelspec": {
      "name": "python3",
      "display_name": "Python 3"
    },
    "language_info": {
      "name": "python"
    }
  },
  "cells": [
    {
      "cell_type": "markdown",
      "metadata": {
        "id": "view-in-github",
        "colab_type": "text"
      },
      "source": [
        "<a href=\"https://colab.research.google.com/github/ROrodrigp/ProgramacionCienciaDatos/blob/main/Escalamiento_de_caracter%C3%ADsticas.ipynb\" target=\"_parent\"><img src=\"https://colab.research.google.com/assets/colab-badge.svg\" alt=\"Open In Colab\"/></a>"
      ]
    },
    {
      "cell_type": "markdown",
      "metadata": {
        "id": "NR0wlkkzjru_"
      },
      "source": [
        "Se revisó el funcionamiento de PCA Y LDA \n"
      ]
    },
    {
      "cell_type": "code",
      "metadata": {
        "colab": {
          "base_uri": "https://localhost:8080/"
        },
        "id": "VUHmq5XY9hwi",
        "outputId": "ce9d1bf9-290b-4f3a-b953-9d4a9b3f2a0b"
      },
      "source": [
        " import numpy as np \n",
        "\n",
        "x = np.array([0,1,2,3,4,5])\n",
        "\n",
        "print('Normalizado: ',(x-x.min())/(x.max()-x.min()))\n",
        "print('Estandarizado: ',(x-x.mean())/x.std())"
      ],
      "execution_count": null,
      "outputs": [
        {
          "output_type": "stream",
          "name": "stdout",
          "text": [
            "Normalizado:  [0.  0.2 0.4 0.6 0.8 1. ]\n",
            "Estandarizado:  [-1.46385011 -0.87831007 -0.29277002  0.29277002  0.87831007  1.46385011]\n"
          ]
        }
      ]
    },
    {
      "cell_type": "code",
      "metadata": {
        "id": "L6eqWmIG_zdu"
      },
      "source": [
        "import pandas as pd\n",
        "import numpy as np "
      ],
      "execution_count": null,
      "outputs": []
    },
    {
      "cell_type": "code",
      "metadata": {
        "colab": {
          "base_uri": "https://localhost:8080/",
          "height": 142
        },
        "id": "Va-pa39q_zf_",
        "outputId": "f2713af0-cbb5-48e5-8909-9eb23a930cd9"
      },
      "source": [
        "df_wine=pd.read_csv(\n",
        "'https://archive.ics.uci.edu/ml/machine-learning-databases/wine/wine.data'\n",
        "    , header=None)\n",
        "df_wine.head(3)"
      ],
      "execution_count": null,
      "outputs": [
        {
          "output_type": "execute_result",
          "data": {
            "text/html": [
              "<div>\n",
              "<style scoped>\n",
              "    .dataframe tbody tr th:only-of-type {\n",
              "        vertical-align: middle;\n",
              "    }\n",
              "\n",
              "    .dataframe tbody tr th {\n",
              "        vertical-align: top;\n",
              "    }\n",
              "\n",
              "    .dataframe thead th {\n",
              "        text-align: right;\n",
              "    }\n",
              "</style>\n",
              "<table border=\"1\" class=\"dataframe\">\n",
              "  <thead>\n",
              "    <tr style=\"text-align: right;\">\n",
              "      <th></th>\n",
              "      <th>0</th>\n",
              "      <th>1</th>\n",
              "      <th>2</th>\n",
              "      <th>3</th>\n",
              "      <th>4</th>\n",
              "      <th>5</th>\n",
              "      <th>6</th>\n",
              "      <th>7</th>\n",
              "      <th>8</th>\n",
              "      <th>9</th>\n",
              "      <th>10</th>\n",
              "      <th>11</th>\n",
              "      <th>12</th>\n",
              "      <th>13</th>\n",
              "    </tr>\n",
              "  </thead>\n",
              "  <tbody>\n",
              "    <tr>\n",
              "      <th>0</th>\n",
              "      <td>1</td>\n",
              "      <td>14.23</td>\n",
              "      <td>1.71</td>\n",
              "      <td>2.43</td>\n",
              "      <td>15.6</td>\n",
              "      <td>127</td>\n",
              "      <td>2.80</td>\n",
              "      <td>3.06</td>\n",
              "      <td>0.28</td>\n",
              "      <td>2.29</td>\n",
              "      <td>5.64</td>\n",
              "      <td>1.04</td>\n",
              "      <td>3.92</td>\n",
              "      <td>1065</td>\n",
              "    </tr>\n",
              "    <tr>\n",
              "      <th>1</th>\n",
              "      <td>1</td>\n",
              "      <td>13.20</td>\n",
              "      <td>1.78</td>\n",
              "      <td>2.14</td>\n",
              "      <td>11.2</td>\n",
              "      <td>100</td>\n",
              "      <td>2.65</td>\n",
              "      <td>2.76</td>\n",
              "      <td>0.26</td>\n",
              "      <td>1.28</td>\n",
              "      <td>4.38</td>\n",
              "      <td>1.05</td>\n",
              "      <td>3.40</td>\n",
              "      <td>1050</td>\n",
              "    </tr>\n",
              "    <tr>\n",
              "      <th>2</th>\n",
              "      <td>1</td>\n",
              "      <td>13.16</td>\n",
              "      <td>2.36</td>\n",
              "      <td>2.67</td>\n",
              "      <td>18.6</td>\n",
              "      <td>101</td>\n",
              "      <td>2.80</td>\n",
              "      <td>3.24</td>\n",
              "      <td>0.30</td>\n",
              "      <td>2.81</td>\n",
              "      <td>5.68</td>\n",
              "      <td>1.03</td>\n",
              "      <td>3.17</td>\n",
              "      <td>1185</td>\n",
              "    </tr>\n",
              "  </tbody>\n",
              "</table>\n",
              "</div>"
            ],
            "text/plain": [
              "   0      1     2     3     4    5   ...    8     9     10    11    12    13\n",
              "0   1  14.23  1.71  2.43  15.6  127  ...  0.28  2.29  5.64  1.04  3.92  1065\n",
              "1   1  13.20  1.78  2.14  11.2  100  ...  0.26  1.28  4.38  1.05  3.40  1050\n",
              "2   1  13.16  2.36  2.67  18.6  101  ...  0.30  2.81  5.68  1.03  3.17  1185\n",
              "\n",
              "[3 rows x 14 columns]"
            ]
          },
          "metadata": {},
          "execution_count": 3
        }
      ]
    },
    {
      "cell_type": "code",
      "metadata": {
        "id": "3UUJ_LC0_zic"
      },
      "source": [
        "#ALGORITMO 1.2#\n",
        "from sklearn.model_selection import train_test_split\n",
        "\n",
        "X,y = df_wine.iloc[:,1:].values, df_wine.iloc[:,0:]\n",
        "X_train, X_test, y_train, y_test = train_test_split(X,y,test_size=0.3)"
      ],
      "execution_count": null,
      "outputs": []
    },
    {
      "cell_type": "code",
      "metadata": {
        "id": "5ndK9mZ7_zk5"
      },
      "source": [
        "from sklearn.preprocessing import StandardScaler\n",
        "sc = StandardScaler()\n",
        "X_train_std = sc.fit_transform(X_train)\n",
        "X_test_std = sc.transform(X_test)#Ya estandarizamos\n",
        "\n",
        "\n"
      ],
      "execution_count": null,
      "outputs": []
    },
    {
      "cell_type": "code",
      "metadata": {
        "colab": {
          "base_uri": "https://localhost:8080/"
        },
        "id": "UADDWDgqLR4x",
        "outputId": "926f090f-5f0a-44e2-eeb5-74d02371b146"
      },
      "source": [
        "cov_mat = np.cov(X_train_std.T)\n",
        "eigen_vals, eigen_vecs = np.linalg.eig(cov_mat)\n",
        "print('Eigenvals: ',eigen_vals)\n",
        "#Ya tenemos descompuesta la matriz de covarianzas "
      ],
      "execution_count": null,
      "outputs": [
        {
          "output_type": "stream",
          "name": "stdout",
          "text": [
            "Eigenvals:  [4.93963903 2.35884106 1.53467483 0.92797852 0.81532876 0.62439317\n",
            " 0.55357038 0.3844865  0.09844718 0.26917772 0.1671087  0.22659582\n",
            " 0.2054494 ]\n"
          ]
        }
      ]
    },
    {
      "cell_type": "code",
      "metadata": {
        "colab": {
          "base_uri": "https://localhost:8080/",
          "height": 279
        },
        "id": "0WCL4oKWLR76",
        "outputId": "f53f0ba4-a4ee-433b-86e5-8dbb950f5fbc"
      },
      "source": [
        "import matplotlib.pyplot as plt\n",
        "tot = sum(eigen_vals)\n",
        "var_exp = [ev/tot for ev in sorted(eigen_vals, reverse=True)]\n",
        "cum_var_exp = np.cumsum(var_exp) #Ordenar los eigenvalores\n",
        "plt.bar(range(1,14),var_exp, label = 'varianza individual',align='center')\n",
        "plt.step(range(1,14),cum_var_exp, where='mid',label='varianza acumulativa')\n",
        "plt.xlabel('componentes')\n",
        "plt.ylabel('varianza')\n",
        "plt.legend(loc='best')\n",
        "plt.show()"
      ],
      "execution_count": null,
      "outputs": [
        {
          "output_type": "display_data",
          "data": {
            "image/png": "[encoded data removed]",
            "text/plain": [
              "<Figure size 432x288 with 1 Axes>"
            ]
          },
          "metadata": {
            "needs_background": "light"
          }
        }
      ]
    },
    {
      "cell_type": "code",
      "metadata": {
        "id": "QQOXM-LnONu-"
      },
      "source": [
        "eigen_par = [(np.abs(eigen_vals[i]), eigen_vecs[i]) for i in range(len(eigen_vals))]\n",
        "eigen_par.sort(key = lambda k: k[0], reverse = True)\n",
        "#Ya ordenamos eigen valores y eigen vectores "
      ],
      "execution_count": null,
      "outputs": []
    },
    {
      "cell_type": "code",
      "metadata": {
        "colab": {
          "base_uri": "https://localhost:8080/"
        },
        "id": "L8wkbvrqLR_P",
        "outputId": "ef3512b8-0de8-4c35-ff69-6fd5ed988ccc"
      },
      "source": [
        "#Seleccionar k eigenvalores\n",
        "w = np.hstack( (eigen_par[0][1][:,np.newaxis],\n",
        "              eigen_par[1][1][:,np.newaxis]))\n",
        "\n",
        "print('W = \\n',w)"
      ],
      "execution_count": null,
      "outputs": [
        {
          "output_type": "stream",
          "name": "stdout",
          "text": [
            "W = \n",
            " [[ 0.15139239 -0.25707658]\n",
            " [ 0.50186466  0.1897393 ]\n",
            " [-0.06053523  0.03984509]\n",
            " [ 0.28619571  0.00131925]\n",
            " [-0.03782912  0.71573234]\n",
            " [-0.31024673 -0.435175  ]\n",
            " [ 0.01318685  0.19606308]\n",
            " [-0.43202437 -0.10015661]\n",
            " [-0.06008714  0.02738745]\n",
            " [-0.49553935  0.26471509]\n",
            " [ 0.26423853 -0.17552536]\n",
            " [ 0.15253807 -0.03421594]\n",
            " [ 0.11347732 -0.20831487]]\n"
          ]
        }
      ]
    },
    {
      "cell_type": "code",
      "metadata": {
        "colab": {
          "base_uri": "https://localhost:8080/"
        },
        "id": "TDd1x9xJLRY5",
        "outputId": "4785677e-5c7a-4275-e20b-c53e648b490f"
      },
      "source": [
        "print('Original: ',X_train_std[0])\n",
        "print('Proyectado: ',X_train_std[0].dot(w))"
      ],
      "execution_count": null,
      "outputs": [
        {
          "output_type": "stream",
          "name": "stdout",
          "text": [
            "Original:  [ 1.46334925 -0.7656242   0.36993846 -0.95196803  0.56395011  1.59970095\n",
            "  1.90160419 -0.37316449  0.49607068  1.55880501  1.24041814  0.34587458\n",
            "  2.90662009]\n",
            "Proyectado:  [-0.8807826  -0.79910686]\n"
          ]
        }
      ]
    },
    {
      "cell_type": "code",
      "metadata": {
        "id": "pC6HWuzwSfe-"
      },
      "source": [
        "X_train_pca = X_train_std.dot(w)\n",
        "#X_train_pca"
      ],
      "execution_count": null,
      "outputs": []
    },
    {
      "cell_type": "code",
      "metadata": {
        "colab": {
          "base_uri": "https://localhost:8080/",
          "height": 282
        },
        "id": "TSJwOOUmTaIL",
        "outputId": "3e89a452-8fb0-4099-849c-e7d5d5686449"
      },
      "source": [
        "color = np.array(['lime','red','black','blue','cyan'])\n",
        "y = y_train[:][0]\n",
        "plt.scatter(X_train_pca[:,0],X_train_pca[:,1], alpha=0.7,c=color[y.astype(int)],edgecolor='black')\n"
      ],
      "execution_count": null,
      "outputs": [
        {
          "output_type": "execute_result",
          "data": {
            "text/plain": [
              "<matplotlib.collections.PathCollection at 0x7fad21c93250>"
            ]
          },
          "metadata": {},
          "execution_count": 12
        },
        {
          "output_type": "display_data",
          "data": {
            "image/png": "[encoded data removed]",
            "text/plain": [
              "<Figure size 432x288 with 1 Axes>"
            ]
          },
          "metadata": {
            "needs_background": "light"
          }
        }
      ]
    },
    {
      "cell_type": "code",
      "metadata": {
        "id": "nF-Ab3OYTaL7"
      },
      "source": [
        "#sklearn\n",
        "\n",
        "import numpy as np\n",
        "import matplotlib.pyplot as plt\n",
        "import pandas as pd\n",
        "\n",
        "df_wine=pd.read_csv(\n",
        "'https://archive.ics.uci.edu/ml/machine-learning-databases/wine/wine.data'\n",
        "    , header=None)\n",
        "\n"
      ],
      "execution_count": null,
      "outputs": []
    },
    {
      "cell_type": "code",
      "metadata": {
        "id": "gcvSLApQTaPz"
      },
      "source": [
        "from sklearn.model_selection import train_test_split\n",
        "X,y = df_wine.iloc[:,1:],df_wine.iloc[:,0].values\n",
        "X_train, X_test, y_train, y_test = train_test_split(X,y,test_size=0.3)\n",
        "\n",
        "from sklearn.preprocessing import StandardScaler\n",
        "\n",
        "sc = StandardScaler()\n",
        "X_train_std = sc.fit_transform(X_train)\n",
        "X_test = sc.transform(X_test)"
      ],
      "execution_count": null,
      "outputs": []
    },
    {
      "cell_type": "code",
      "metadata": {
        "id": "Py0DtEQ-TaTs"
      },
      "source": [
        "from sklearn.linear_model import LogisticRegression\n",
        "from sklearn.decomposition import PCA"
      ],
      "execution_count": null,
      "outputs": []
    },
    {
      "cell_type": "code",
      "metadata": {
        "colab": {
          "base_uri": "https://localhost:8080/"
        },
        "id": "hWq3eHrvSfiU",
        "outputId": "3c4dfd73-415f-4f77-e7fd-8796c877d509"
      },
      "source": [
        "pca = PCA(n_components=2)\n",
        "lr = LogisticRegression(multi_class='auto', solver='liblinear')\n",
        "\n",
        "X_train_pca = pca.fit_transform(X_train_std)\n",
        "X_test_pca = pca.fit_transform(X_test_std)\n",
        "\n",
        "lr.fit(X_train_pca, y_train)"
      ],
      "execution_count": null,
      "outputs": [
        {
          "output_type": "execute_result",
          "data": {
            "text/plain": [
              "LogisticRegression(C=1.0, class_weight=None, dual=False, fit_intercept=True,\n",
              "                   intercept_scaling=1, l1_ratio=None, max_iter=100,\n",
              "                   multi_class='auto', n_jobs=None, penalty='l2',\n",
              "                   random_state=None, solver='liblinear', tol=0.0001, verbose=0,\n",
              "                   warm_start=False)"
            ]
          },
          "metadata": {},
          "execution_count": 16
        }
      ]
    },
    {
      "cell_type": "code",
      "metadata": {
        "colab": {
          "base_uri": "https://localhost:8080/",
          "height": 333
        },
        "id": "xYvcUOHdSfl1",
        "outputId": "db33127d-01ae-4314-b41c-48cfa1535091"
      },
      "source": [
        "from mlxtend.plotting import plot_decision_regions\n",
        "plot_decision_regions(X_train_pca, y_train, clf = lr,legend=2)\n",
        "plt.ylabel('PC2')\n",
        "plt.xlabel('PC1')\n",
        "plt.show()\n"
      ],
      "execution_count": null,
      "outputs": [
        {
          "output_type": "stream",
          "name": "stderr",
          "text": [
            "/usr/local/lib/python3.7/dist-packages/mlxtend/plotting/decision_regions.py:244: MatplotlibDeprecationWarning: Passing unsupported keyword arguments to axis() will raise a TypeError in 3.3.\n",
            "  ax.axis(xmin=xx.min(), xmax=xx.max(), y_min=yy.min(), y_max=yy.max())\n"
          ]
        },
        {
          "output_type": "display_data",
          "data": {
            "image/png": "[encoded data removed]",
            "text/plain": [
              "<Figure size 432x288 with 1 Axes>"
            ]
          },
          "metadata": {
            "needs_background": "light"
          }
        }
      ]
    },
    {
      "cell_type": "code",
      "metadata": {
        "colab": {
          "base_uri": "https://localhost:8080/",
          "height": 333
        },
        "id": "U8YgStq-_znJ",
        "outputId": "c66d81e3-5b02-4779-cef9-82e2c274ce21"
      },
      "source": [
        "plot_decision_regions(X_test_pca, y_test, clf = lr,legend=2)\n",
        "plt.ylabel('PC2')\n",
        "plt.xlabel('PC1')\n",
        "plt.show()"
      ],
      "execution_count": null,
      "outputs": [
        {
          "output_type": "stream",
          "name": "stderr",
          "text": [
            "/usr/local/lib/python3.7/dist-packages/mlxtend/plotting/decision_regions.py:244: MatplotlibDeprecationWarning: Passing unsupported keyword arguments to axis() will raise a TypeError in 3.3.\n",
            "  ax.axis(xmin=xx.min(), xmax=xx.max(), y_min=yy.min(), y_max=yy.max())\n"
          ]
        },
        {
          "output_type": "display_data",
          "data": {
            "image/png": "[encoded data removed]",
            "text/plain": [
              "<Figure size 432x288 with 1 Axes>"
            ]
          },
          "metadata": {
            "needs_background": "light"
          }
        }
      ]
    },
    {
      "cell_type": "code",
      "metadata": {
        "colab": {
          "base_uri": "https://localhost:8080/",
          "height": 204
        },
        "id": "42g7vg_95qTm",
        "outputId": "424ef56d-1aae-4cdc-bbd8-8fdfbd458737"
      },
      "source": [
        "#Linear Discriminant Analysis LDA\n",
        "import numpy as np \n",
        "import matplotlib.pyplot as plt\n",
        "import pandas as pd\n",
        "\n",
        "df_wine=pd.read_csv(\n",
        "'https://archive.ics.uci.edu/ml/machine-learning-databases/wine/wine.data'\n",
        "    , header=None)\n",
        " \n",
        "df_wine.head()"
      ],
      "execution_count": null,
      "outputs": [
        {
          "output_type": "execute_result",
          "data": {
            "text/html": [
              "<div>\n",
              "<style scoped>\n",
              "    .dataframe tbody tr th:only-of-type {\n",
              "        vertical-align: middle;\n",
              "    }\n",
              "\n",
              "    .dataframe tbody tr th {\n",
              "        vertical-align: top;\n",
              "    }\n",
              "\n",
              "    .dataframe thead th {\n",
              "        text-align: right;\n",
              "    }\n",
              "</style>\n",
              "<table border=\"1\" class=\"dataframe\">\n",
              "  <thead>\n",
              "    <tr style=\"text-align: right;\">\n",
              "      <th></th>\n",
              "      <th>0</th>\n",
              "      <th>1</th>\n",
              "      <th>2</th>\n",
              "      <th>3</th>\n",
              "      <th>4</th>\n",
              "      <th>5</th>\n",
              "      <th>6</th>\n",
              "      <th>7</th>\n",
              "      <th>8</th>\n",
              "      <th>9</th>\n",
              "      <th>10</th>\n",
              "      <th>11</th>\n",
              "      <th>12</th>\n",
              "      <th>13</th>\n",
              "    </tr>\n",
              "  </thead>\n",
              "  <tbody>\n",
              "    <tr>\n",
              "      <th>0</th>\n",
              "      <td>1</td>\n",
              "      <td>14.23</td>\n",
              "      <td>1.71</td>\n",
              "      <td>2.43</td>\n",
              "      <td>15.6</td>\n",
              "      <td>127</td>\n",
              "      <td>2.80</td>\n",
              "      <td>3.06</td>\n",
              "      <td>0.28</td>\n",
              "      <td>2.29</td>\n",
              "      <td>5.64</td>\n",
              "      <td>1.04</td>\n",
              "      <td>3.92</td>\n",
              "      <td>1065</td>\n",
              "    </tr>\n",
              "    <tr>\n",
              "      <th>1</th>\n",
              "      <td>1</td>\n",
              "      <td>13.20</td>\n",
              "      <td>1.78</td>\n",
              "      <td>2.14</td>\n",
              "      <td>11.2</td>\n",
              "      <td>100</td>\n",
              "      <td>2.65</td>\n",
              "      <td>2.76</td>\n",
              "      <td>0.26</td>\n",
              "      <td>1.28</td>\n",
              "      <td>4.38</td>\n",
              "      <td>1.05</td>\n",
              "      <td>3.40</td>\n",
              "      <td>1050</td>\n",
              "    </tr>\n",
              "    <tr>\n",
              "      <th>2</th>\n",
              "      <td>1</td>\n",
              "      <td>13.16</td>\n",
              "      <td>2.36</td>\n",
              "      <td>2.67</td>\n",
              "      <td>18.6</td>\n",
              "      <td>101</td>\n",
              "      <td>2.80</td>\n",
              "      <td>3.24</td>\n",
              "      <td>0.30</td>\n",
              "      <td>2.81</td>\n",
              "      <td>5.68</td>\n",
              "      <td>1.03</td>\n",
              "      <td>3.17</td>\n",
              "      <td>1185</td>\n",
              "    </tr>\n",
              "    <tr>\n",
              "      <th>3</th>\n",
              "      <td>1</td>\n",
              "      <td>14.37</td>\n",
              "      <td>1.95</td>\n",
              "      <td>2.50</td>\n",
              "      <td>16.8</td>\n",
              "      <td>113</td>\n",
              "      <td>3.85</td>\n",
              "      <td>3.49</td>\n",
              "      <td>0.24</td>\n",
              "      <td>2.18</td>\n",
              "      <td>7.80</td>\n",
              "      <td>0.86</td>\n",
              "      <td>3.45</td>\n",
              "      <td>1480</td>\n",
              "    </tr>\n",
              "    <tr>\n",
              "      <th>4</th>\n",
              "      <td>1</td>\n",
              "      <td>13.24</td>\n",
              "      <td>2.59</td>\n",
              "      <td>2.87</td>\n",
              "      <td>21.0</td>\n",
              "      <td>118</td>\n",
              "      <td>2.80</td>\n",
              "      <td>2.69</td>\n",
              "      <td>0.39</td>\n",
              "      <td>1.82</td>\n",
              "      <td>4.32</td>\n",
              "      <td>1.04</td>\n",
              "      <td>2.93</td>\n",
              "      <td>735</td>\n",
              "    </tr>\n",
              "  </tbody>\n",
              "</table>\n",
              "</div>"
            ],
            "text/plain": [
              "   0      1     2     3     4    5   ...    8     9     10    11    12    13\n",
              "0   1  14.23  1.71  2.43  15.6  127  ...  0.28  2.29  5.64  1.04  3.92  1065\n",
              "1   1  13.20  1.78  2.14  11.2  100  ...  0.26  1.28  4.38  1.05  3.40  1050\n",
              "2   1  13.16  2.36  2.67  18.6  101  ...  0.30  2.81  5.68  1.03  3.17  1185\n",
              "3   1  14.37  1.95  2.50  16.8  113  ...  0.24  2.18  7.80  0.86  3.45  1480\n",
              "4   1  13.24  2.59  2.87  21.0  118  ...  0.39  1.82  4.32  1.04  2.93   735\n",
              "\n",
              "[5 rows x 14 columns]"
            ]
          },
          "metadata": {},
          "execution_count": 32
        }
      ]
    },
    {
      "cell_type": "code",
      "metadata": {
        "id": "NObwQU8H5qWV"
      },
      "source": [
        "from sklearn.model_selection import train_test_split\n",
        "X, y = df_wine.iloc[:,1:].values, df_wine.iloc[:,0].values\n",
        "X_train, X_test, y_train, y_test = train_test_split(X,y,test_size =0.3)\n",
        "\n",
        "\n",
        "from sklearn.preprocessing import StandardScaler\n",
        "sc =  StandardScaler()\n",
        "X_train_std = sc.fit_transform(X_train)\n",
        "X_test_std = sc.transform(X_test)"
      ],
      "execution_count": null,
      "outputs": []
    },
    {
      "cell_type": "code",
      "metadata": {
        "colab": {
          "base_uri": "https://localhost:8080/"
        },
        "id": "o476wmSs6hVF",
        "outputId": "229d72b9-cef4-4ad6-a45a-8b9991636b3f"
      },
      "source": [
        "from sklearn.linear_model import LogisticRegression\n",
        "from sklearn.discriminant_analysis import LinearDiscriminantAnalysis as LDA\n",
        "\n",
        "lda = LDA(n_components = 2)\n",
        "lr = LogisticRegression()\n",
        "\n",
        "X_train_lda = lda.fit_transform(X_train_std, y_train) #Ya entrenamos el modelo lDA\n",
        "X_test_lda = lda.transform(X_test_std)\n",
        "lr.fit(X_train_lda, y_train)\n"
      ],
      "execution_count": null,
      "outputs": [
        {
          "output_type": "execute_result",
          "data": {
            "text/plain": [
              "LogisticRegression(C=1.0, class_weight=None, dual=False, fit_intercept=True,\n",
              "                   intercept_scaling=1, l1_ratio=None, max_iter=100,\n",
              "                   multi_class='auto', n_jobs=None, penalty='l2',\n",
              "                   random_state=None, solver='lbfgs', tol=0.0001, verbose=0,\n",
              "                   warm_start=False)"
            ]
          },
          "metadata": {},
          "execution_count": 42
        }
      ]
    },
    {
      "cell_type": "code",
      "metadata": {
        "colab": {
          "base_uri": "https://localhost:8080/",
          "height": 350
        },
        "id": "doPFmEWg5qZS",
        "outputId": "dcbf5c7c-1132-4898-eaae-a65dad69b9d5"
      },
      "source": [
        "from mlxtend.plotting import plot_decision_regions\n",
        "plot_decision_regions(X_train_lda, y_train, clf = lr)\n",
        "plt.xlabel('LDA1')\n",
        "plt.ylabel('LDA2')"
      ],
      "execution_count": null,
      "outputs": [
        {
          "output_type": "stream",
          "name": "stderr",
          "text": [
            "/usr/local/lib/python3.7/dist-packages/mlxtend/plotting/decision_regions.py:244: MatplotlibDeprecationWarning: Passing unsupported keyword arguments to axis() will raise a TypeError in 3.3.\n",
            "  ax.axis(xmin=xx.min(), xmax=xx.max(), y_min=yy.min(), y_max=yy.max())\n"
          ]
        },
        {
          "output_type": "execute_result",
          "data": {
            "text/plain": [
              "Text(0, 0.5, 'LDA2')"
            ]
          },
          "metadata": {},
          "execution_count": 40
        },
        {
          "output_type": "display_data",
          "data": {
            "image/png": "[encoded data removed]",
            "text/plain": [
              "<Figure size 432x288 with 1 Axes>"
            ]
          },
          "metadata": {
            "needs_background": "light"
          }
        }
      ]
    },
    {
      "cell_type": "code",
      "metadata": {
        "id": "UYUmpoxKjoy4"
      },
      "source": [
        ""
      ],
      "execution_count": null,
      "outputs": []
    },
    {
      "cell_type": "code",
      "metadata": {
        "colab": {
          "base_uri": "https://localhost:8080/",
          "height": 350
        },
        "id": "VDwJX5Vv5qcC",
        "outputId": "925fce1a-7373-4901-f347-ca0f0c1a9c0b"
      },
      "source": [
        "from mlxtend.plotting import plot_decision_regions\n",
        "plot_decision_regions(X_test_lda, y_test, clf = lr)\n",
        "plt.xlabel('LDA1')\n",
        "plt.ylabel('LDA2')"
      ],
      "execution_count": null,
      "outputs": [
        {
          "output_type": "stream",
          "name": "stderr",
          "text": [
            "/usr/local/lib/python3.7/dist-packages/mlxtend/plotting/decision_regions.py:244: MatplotlibDeprecationWarning: Passing unsupported keyword arguments to axis() will raise a TypeError in 3.3.\n",
            "  ax.axis(xmin=xx.min(), xmax=xx.max(), y_min=yy.min(), y_max=yy.max())\n"
          ]
        },
        {
          "output_type": "execute_result",
          "data": {
            "text/plain": [
              "Text(0, 0.5, 'LDA2')"
            ]
          },
          "metadata": {},
          "execution_count": 43
        },
        {
          "output_type": "display_data",
          "data": {
            "image/png": "[encoded data removed]",
            "text/plain": [
              "<Figure size 432x288 with 1 Axes>"
            ]
          },
          "metadata": {
            "needs_background": "light"
          }
        }
      ]
    },
    {
      "cell_type": "code",
      "metadata": {
        "id": "aBAiQJTU5qfA"
      },
      "source": [
        "#Kernel PCA con RBF\n",
        "import scipy \n",
        "from scipy.spatial.distance import pdist, squareform\n",
        "from scipy.linalg import eigh\n",
        "import numpy as np \n",
        "import matplotlib.pyplot as plt\n"
      ],
      "execution_count": null,
      "outputs": []
    },
    {
      "cell_type": "code",
      "metadata": {
        "id": "MybQCFLJ5qiH"
      },
      "source": [
        "def rbf_kpca(x, gamma, n_components):\n",
        "  sq_dists = pdist(x, 'sqeuclidean')\n",
        "  mat_sq_dists = squareform(sq_dists)\n",
        "  k = np.exp(-gamma * mat_sq_dists)\n",
        "  #Centrar \n",
        "  N = k.shape[0]\n",
        "  one_n = np.ones((N,N)) / N\n",
        "  k = k - one_n.dot(k)  - k.dot(one_n) + one_n.dot(k).dot(one_n)\n",
        "\n",
        "  eigen_vals, eigen_vecs = eigh(k)\n",
        "  eigen_vals, eigen_vecs = eigen_vals[::-1], eigen_vecs[:,::-1]\n",
        "\n",
        "  print(eigen_vals.shape, ' : ', eigen_vecs.shape)\n",
        "\n",
        "  #Seleccionar K \n",
        "  alphas = np.column_stack([eigen_vecs[:,i] for i in range(n_components)])\n",
        "  lambdas = np.column_stack([eigen_vals[i] for i in range(n_components)])\n",
        "\n",
        "  return alphas, lambdas"
      ],
      "execution_count": null,
      "outputs": []
    },
    {
      "cell_type": "code",
      "metadata": {
        "colab": {
          "base_uri": "https://localhost:8080/",
          "height": 265
        },
        "id": "bogGi_lH5qlO",
        "outputId": "e222bfff-3593-48e0-d8ec-1bb945a79bbd"
      },
      "source": [
        "from sklearn.datasets import make_moons\n",
        "X,y = make_moons(n_samples = 100,random_state = 123)\n",
        "plt.scatter(X[y==0,0],X[y==0,1],color='blue',marker='*',alpha = 0.5)\n",
        "plt.scatter(X[y==1,0],X[y==1,1],color='red',marker='o',alpha=0.5)\n",
        "plt.show()"
      ],
      "execution_count": null,
      "outputs": [
        {
          "output_type": "display_data",
          "data": {
            "image/png": "[encoded data removed]",
            "text/plain": [
              "<Figure size 432x288 with 1 Axes>"
            ]
          },
          "metadata": {
            "needs_background": "light"
          }
        }
      ]
    },
    {
      "cell_type": "code",
      "metadata": {
        "id": "kX3sc72f5qpD"
      },
      "source": [
        "from sklearn.decomposition import PCA\n",
        "pca = PCA(n_components=2)\n",
        "X_pca = pca.fit_transform(X)\n"
      ],
      "execution_count": null,
      "outputs": []
    },
    {
      "cell_type": "code",
      "metadata": {
        "colab": {
          "base_uri": "https://localhost:8080/",
          "height": 282
        },
        "id": "IOdPv3-bHrbm",
        "outputId": "513f173b-9459-4cad-c1a7-6095433af220"
      },
      "source": [
        "fig, ax = plt.subplots(nrows=1, ncols=2, figsize = (10,4),sharey=True)\n",
        "ax[0].scatter(X_pca[y==0,0],X_pca[y==0,1],color='red',marker='*',alpha = 0.5)\n",
        "ax[0].scatter(X_pca[y==1,0],X_pca[y==1,1],color='blue',marker='o',alpha=0.5)\n",
        "ax[1].scatter(X_pca[y==0,0], np.zeros((50,1))+0.02,color='red',marker='*',alpha = 0.5)\n",
        "ax[1].scatter(X_pca[y==1,0],np.zeros((50,1))-0.02,color='blue',marker='o',alpha=0.5)\n",
        "\n",
        "#PCA no puede separar estos conjuntos porque no son separables "
      ],
      "execution_count": null,
      "outputs": [
        {
          "output_type": "execute_result",
          "data": {
            "text/plain": [
              "<matplotlib.collections.PathCollection at 0x7fad17e78890>"
            ]
          },
          "metadata": {},
          "execution_count": 63
        },
        {
          "output_type": "display_data",
          "data": {
            "image/png": "[encoded data removed]",
            "text/plain": [
              "<Figure size 720x288 with 2 Axes>"
            ]
          },
          "metadata": {
            "needs_background": "light"
          }
        }
      ]
    },
    {
      "cell_type": "code",
      "metadata": {
        "colab": {
          "base_uri": "https://localhost:8080/",
          "height": 299
        },
        "id": "asSIeXI4Hrfa",
        "outputId": "e7ee5694-0e0d-4cfc-a652-37b08a2a4f3c"
      },
      "source": [
        "X_kpca, l = rbf_kpca(X, gamma=15, n_components=2)\n",
        "fig, ax = plt.subplots(nrows=1, ncols=2, figsize = (10,4),sharey=True)\n",
        "ax[0].scatter(X_kpca[y==0,0],X_kpca[y==0,1],color='red',marker='*',alpha = 0.5)\n",
        "ax[0].scatter(X_kpca[y==1,0],X_kpca[y==1,1],color='blue',marker='o',alpha=0.5)\n",
        "ax[1].scatter(X_kpca[y==0,0], np.zeros((50,1))+0.02,color='red',marker='*',alpha = 0.5)\n",
        "ax[1].scatter(X_kpca[y==1,0],np.zeros((50,1))-0.02,color='blue',marker='o',alpha=0.5)\n",
        "\n"
      ],
      "execution_count": null,
      "outputs": [
        {
          "output_type": "stream",
          "name": "stdout",
          "text": [
            "(100,)  :  (100, 100)\n"
          ]
        },
        {
          "output_type": "execute_result",
          "data": {
            "text/plain": [
              "<matplotlib.collections.PathCollection at 0x7fad17aaa750>"
            ]
          },
          "metadata": {},
          "execution_count": 87
        },
        {
          "output_type": "display_data",
          "data": {
            "image/png": "[encoded data removed]",
            "text/plain": [
              "<Figure size 720x288 with 2 Axes>"
            ]
          },
          "metadata": {
            "needs_background": "light"
          }
        }
      ]
    },
    {
      "cell_type": "code",
      "metadata": {
        "colab": {
          "base_uri": "https://localhost:8080/",
          "height": 282
        },
        "id": "TG5SI7sBHrjC",
        "outputId": "3b688f28-0388-4389-97ad-bf8bdd72705e"
      },
      "source": [
        "from sklearn.decomposition import KernelPCA\n",
        "kpca = KernelPCA(n_components = 2, kernel='rbf', gamma = 15)\n",
        "X_kpca = kpca.fit_transform(X)\n",
        "fig, ax = plt.subplots(nrows=1, ncols=2, figsize = (10,4),sharey=True)\n",
        "ax[0].scatter(X_kpca[y==0,0],X_kpca[y==0,1],color='red',marker='*',alpha = 0.5)\n",
        "ax[0].scatter(X_kpca[y==1,0],X_kpca[y==1,1],color='blue',marker='o',alpha=0.5)\n",
        "ax[1].scatter(X_kpca[y==0,0], np.zeros((50,1))+0.02,color='red',marker='*',alpha = 0.5)\n",
        "ax[1].scatter(X_kpca[y==1,0],np.zeros((50,1))-0.02,color='blue',marker='o',alpha=0.5)\n",
        "\n"
      ],
      "execution_count": null,
      "outputs": [
        {
          "output_type": "execute_result",
          "data": {
            "text/plain": [
              "<matplotlib.collections.PathCollection at 0x7fad181ac390>"
            ]
          },
          "metadata": {},
          "execution_count": 90
        },
        {
          "output_type": "display_data",
          "data": {
            "image/png": "[encoded data removed]",
            "text/plain": [
              "<Figure size 720x288 with 2 Axes>"
            ]
          },
          "metadata": {
            "needs_background": "light"
          }
        }
      ]
    },
    {
      "cell_type": "code",
      "metadata": {
        "id": "3i36kU-bHrnY"
      },
      "source": [
        ""
      ],
      "execution_count": null,
      "outputs": []
    }
  ]
}