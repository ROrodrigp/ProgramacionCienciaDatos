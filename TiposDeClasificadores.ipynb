{
  "nbformat": 4,
  "nbformat_minor": 0,
  "metadata": {
    "colab": {
      "name": "TiposDeClasificadores.ipynb",
      "provenance": [],
      "collapsed_sections": [],
      "authorship_tag": "ABX9TyOTs1bQlHXteZLkTacXcXxl",
      "include_colab_link": true
    },
    "kernelspec": {
      "name": "python3",
      "display_name": "Python 3"
    },
    "language_info": {
      "name": "python"
    }
  },
  "cells": [
    {
      "cell_type": "markdown",
      "metadata": {
        "id": "view-in-github",
        "colab_type": "text"
      },
      "source": [
        "<a href=\"https://colab.research.google.com/github/ROrodrigp/ProgramacionCienciaDatos/blob/main/TiposDeClasificadores.ipynb\" target=\"_parent\"><img src=\"https://colab.research.google.com/assets/colab-badge.svg\" alt=\"Open In Colab\"/></a>"
      ]
    },
    {
      "cell_type": "code",
      "metadata": {
        "id": "Pg4KFOzbsFT0"
      },
      "source": [
        "#Clasificador determinista de Euclides \n",
        "import numpy as np \n",
        "from sympy import Matrix, symbols, simplify"
      ],
      "execution_count": null,
      "outputs": []
    },
    {
      "cell_type": "code",
      "metadata": {
        "id": "qCoOxY4DsVKs"
      },
      "source": [
        "def clasif_e(samples):\n",
        "  \n",
        "  n_samples = len(samples)#Obtenemos el número de clases\n",
        "  print(n_samples)\n",
        "  x = Matrix([symbols('x'+str(i)) for i in range(samples[0].shape[0])])\n",
        "  print(x)\n",
        "  fdiscriminantes  = []#almacen de funciones \n",
        "  for s in samples:\n",
        "    m = Matrix(np.mean(s, axis = 1))\n",
        "    print(m)\n",
        "    fdiscriminantes.append( simplify(x.T * m - 0.5*(m.T*m)) )\n",
        "  return fdiscriminantes\n",
        "  "
      ],
      "execution_count": null,
      "outputs": []
    },
    {
      "cell_type": "code",
      "metadata": {
        "colab": {
          "base_uri": "https://localhost:8080/"
        },
        "id": "4O56kI36sVXw",
        "outputId": "496cc7fd-48ab-4a72-ea4d-c12ca7577fa9"
      },
      "source": [
        "w1 = np.array([[1,5,6,1],[2,3,4,-2],[0,1,5,3],[1,3,5,2]]).T\n",
        "w2 = np.array([[6,8,-1,6],[7,9,3,6],[8,7,1,9]]).T\n",
        "samples = (w1,w2)\n",
        "fds = clasif_e(samples)\n",
        "print(fds)\n",
        "for fd in range(len(fds)): \n",
        "  print('fd'+str(fd+1)+ ': ', fds[fd].evalf(subs = {'x0':3, 'x1':1, 'x2':3, 'x3':1}))\n",
        "\n"
      ],
      "execution_count": null,
      "outputs": [
        {
          "output_type": "stream",
          "name": "stdout",
          "text": [
            "2\n",
            "Matrix([[x0], [x1], [x2], [x3]])\n",
            "Matrix([[1.00000000000000], [3.00000000000000], [5.00000000000000], [1.00000000000000]])\n",
            "Matrix([[7.00000000000000], [8.00000000000000], [1.00000000000000], [7.00000000000000]])\n",
            "[Matrix([[1.0*x0 + 3.0*x1 + 5.0*x2 + 1.0*x3 - 18.0]]), Matrix([[7.0*x0 + 8.0*x1 + 1.0*x2 + 7.0*x3 - 81.5]])]\n",
            "fd1:  Matrix([[4.00000000000000]])\n",
            "fd2:  Matrix([[-42.5000000000000]])\n"
          ]
        }
      ]
    },
    {
      "cell_type": "code",
      "metadata": {
        "id": "E6tIGFDxsVkx"
      },
      "source": [
        "#Clasificador probabilista de Mahalanobis\n",
        "import numpy as np \n",
        "from sympy import Matrix, symbols, simplify,log\n",
        "\n",
        "\n",
        "def clasif_e(samples):\n",
        "  \n",
        "  n_samples = len(samples)#Obtenemos el número de clases\n",
        "  #print(n_samples)\n",
        "  x = Matrix([symbols('x'+str(i)) for i in range(samples[0].shape[0])])\n",
        "  #print(x)\n",
        "  fdiscriminantes  = []#almacen de funciones \n",
        "  for s in samples:\n",
        "    m = Matrix(np.mean(s, axis = 1))\n",
        "    print('Media: \\n',m)\n",
        "    m_cov = np.cov(s,bias=True)\n",
        "    print('Covarianza: \\n',m_cov)\n",
        "    m_ci = Matrix(m_cov).inv()\n",
        "    print('Inversa: \\n',m_ci)\n",
        "    fdiscriminantes.append( simplify ( (x.T*m_ci*x)/-2 + x.T*m_ci*m - (m.T*m_ci*m)/2 - Matrix([log(m_ci.det())/2])) )\n",
        "    #print(m)\n",
        "    #fdiscriminantes.append( simplify(x.T * m - 0.5*(m.T*m)) )\n",
        "  return fdiscriminantes"
      ],
      "execution_count": null,
      "outputs": []
    },
    {
      "cell_type": "code",
      "metadata": {
        "colab": {
          "base_uri": "https://localhost:8080/"
        },
        "id": "Xo6VJmuvtZ7l",
        "outputId": "93d7cfa6-f2ac-4e23-fe1e-941d0b8818a0"
      },
      "source": [
        "w1 = np.array([[1,2],[2,2],[3,1],[2,3],[3,2]]).T\n",
        "w2 = np.array([[8,10],[9,8],[9,9],[8,9],[7,9]]).T\n",
        "samples=(w1,w2)\n",
        "clasif_e(samples)"
      ],
      "execution_count": null,
      "outputs": [
        {
          "output_type": "stream",
          "name": "stdout",
          "text": [
            "Media: \n",
            " Matrix([[2.20000000000000], [2.00000000000000]])\n",
            "Covarianza: \n",
            " [[ 0.56 -0.2 ]\n",
            " [-0.2   0.4 ]]\n",
            "Inversa: \n",
            " Matrix([[2.17391304347826, 1.08695652173913], [1.08695652173913, 3.04347826086957]])\n",
            "Media: \n",
            " Matrix([[8.20000000000000], [9.00000000000000]])\n",
            "Covarianza: \n",
            " [[ 0.56 -0.2 ]\n",
            " [-0.2   0.4 ]]\n",
            "Inversa: \n",
            " Matrix([[2.17391304347826, 1.08695652173913], [1.08695652173913, 3.04347826086956]])\n"
          ]
        },
        {
          "output_type": "execute_result",
          "data": {
            "text/plain": [
              "[Matrix([[-1.08695652173913*x0**2 - 1.08695652173913*x0*x1 + 6.95652173913044*x0 - 1.52173913043478*x1**2 + 8.47826086956522*x1 - 16.9768445432953]]),\n",
              " Matrix([[-1.08695652173913*x0**2 - 1.08695652173913*x0*x1 + 27.6086956521739*x0 - 1.52173913043478*x1**2 + 36.304347826087*x1 - 277.411627151991]])]"
            ]
          },
          "metadata": {},
          "execution_count": 5
        }
      ]
    },
    {
      "cell_type": "code",
      "metadata": {
        "id": "3gJO4X91sVwr",
        "colab": {
          "base_uri": "https://localhost:8080/",
          "height": 92
        },
        "outputId": "173e62c0-4581-4609-cefa-751fbc733b44"
      },
      "source": [
        "\"\"\"\n",
        "    |E[ E(x1-m1)E(x1-m1) ]  E[ E(x1-m1)E(x2-m2) ]|\n",
        "c = |                                |\n",
        "    |E[ E(x2-m2)E(x1-m1) ]  E[ E(x2-m2)E(x2-m2) ]|\n",
        "\n",
        "c11 = ((1-2.2)**2 + (2-2.2)**2 + (3-2.2)**2 + (2-2.2)**2 + (3-2.2)**2 ) / 5\n",
        "c12 = c21 = ((1-2.2)*(2-2) + (2-2.2)*(2-2) + (3-2.2)*(1-2) + (2-2.2)*(3-2) + (3-2.2)*(2-2) ) / 5\n",
        "c22 = 0.4\n",
        "\"\"\""
      ],
      "execution_count": null,
      "outputs": [
        {
          "output_type": "execute_result",
          "data": {
            "application/vnd.google.colaboratory.intrinsic+json": {
              "type": "string"
            },
            "text/plain": [
              "'\\n    |E[ E(x1-m1)E(x1-m1) ]  E[ E(x1-m1)E(x2-m2) ]|\\nc = |                                |\\n    |E[ E(x2-m2)E(x1-m1) ]  E[ E(x2-m2)E(x2-m2) ]|\\n\\nc11 = ((1-2.2)**2 + (2-2.2)**2 + (3-2.2)**2 + (2-2.2)**2 + (3-2.2)**2 ) / 5\\nc12 = c21 = ((1-2.2)*(2-2) + (2-2.2)*(2-2) + (3-2.2)*(1-2) + (2-2.2)*(3-2) + (3-2.2)*(2-2) ) / 5\\nc22 = 0.4\\n'"
            ]
          },
          "metadata": {},
          "execution_count": 6
        }
      ]
    },
    {
      "cell_type": "code",
      "metadata": {
        "id": "Bww-7eGAsV9N",
        "colab": {
          "base_uri": "https://localhost:8080/"
        },
        "outputId": "3598ef51-2217-4dba-cc53-c4cc91de5a2a"
      },
      "source": [
        "((1-2.2)**2 + (2-2.2)**2 + (3-2.2)**2 + (2-2.2)**2 + (3-2.2)**2 ) / 5\n",
        "((1-2.2)*(2-2) + (2-2.2)*(2-2) + (3-2.2)*(1-2) + (2-2.2)*(3-2) + (3-2.2)*(2-2) ) / 5"
      ],
      "execution_count": null,
      "outputs": [
        {
          "output_type": "execute_result",
          "data": {
            "text/plain": [
              "-0.2"
            ]
          },
          "metadata": {},
          "execution_count": 7
        }
      ]
    },
    {
      "cell_type": "code",
      "metadata": {
        "id": "DK-qZeexVZnf"
      },
      "source": [
        ""
      ],
      "execution_count": null,
      "outputs": []
    },
    {
      "cell_type": "code",
      "metadata": {
        "id": "pfwgaSDzVZqJ"
      },
      "source": [
        ""
      ],
      "execution_count": null,
      "outputs": []
    },
    {
      "cell_type": "code",
      "metadata": {
        "id": "VkpKloxvVZsr"
      },
      "source": [
        ""
      ],
      "execution_count": null,
      "outputs": []
    },
    {
      "cell_type": "code",
      "metadata": {
        "id": "sNaWw_LxVZvm"
      },
      "source": [
        ""
      ],
      "execution_count": null,
      "outputs": []
    }
  ]
}