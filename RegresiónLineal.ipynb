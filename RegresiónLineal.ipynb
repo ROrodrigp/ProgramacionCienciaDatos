{
  "nbformat": 4,
  "nbformat_minor": 0,
  "metadata": {
    "colab": {
      "name": "RegresiónLineal.ipynb",
      "provenance": [],
      "collapsed_sections": [],
      "authorship_tag": "ABX9TyMruf/+4c9KFFuO9zqUF4QY",
      "include_colab_link": true
    },
    "kernelspec": {
      "name": "python3",
      "display_name": "Python 3"
    },
    "language_info": {
      "name": "python"
    }
  },
  "cells": [
    {
      "cell_type": "markdown",
      "metadata": {
        "id": "view-in-github",
        "colab_type": "text"
      },
      "source": [
        "<a href=\"https://colab.research.google.com/github/ROrodrigp/ProgramacionCienciaDatos/blob/main/Regresi%C3%B3nLineal.ipynb\" target=\"_parent\"><img src=\"https://colab.research.google.com/assets/colab-badge.svg\" alt=\"Open In Colab\"/></a>"
      ]
    },
    {
      "cell_type": "code",
      "metadata": {
        "id": "vQI7toootYCQ"
      },
      "source": [
        "import matplotlib.pyplot as plt\n",
        "import numpy as np "
      ],
      "execution_count": null,
      "outputs": []
    },
    {
      "cell_type": "code",
      "metadata": {
        "colab": {
          "base_uri": "https://localhost:8080/",
          "height": 281
        },
        "id": "OrOzSlnRtic1",
        "outputId": "b29f1d5b-b7ae-4098-9651-bdad349fa4fa"
      },
      "source": [
        "x = np.array([0.2,0.6,0.6,1.5,1.8])\n",
        "y = np.array([0.1,0.4,0.9,1.2,1.7])\n",
        "plt.scatter(x,y)"
      ],
      "execution_count": null,
      "outputs": [
        {
          "output_type": "execute_result",
          "data": {
            "text/plain": [
              "<matplotlib.collections.PathCollection at 0x7f949e0c7510>"
            ]
          },
          "metadata": {},
          "execution_count": 2
        },
        {
          "output_type": "display_data",
          "data": {
            "image/png": "[encoded data removed]",
            "text/plain": [
              "<Figure size 432x288 with 1 Axes>"
            ]
          },
          "metadata": {
            "needs_background": "light"
          }
        }
      ]
    },
    {
      "cell_type": "code",
      "metadata": {
        "id": "jY9q-RjGtifZ"
      },
      "source": [
        "x_train, y_train = np.array([0.6,1.8]), np.array([0.4,1.7])\n",
        "x_test, y_test = np.array([0.2,0.6,1.5]), np.array([0.1,0.9,1.2])\n"
      ],
      "execution_count": null,
      "outputs": []
    },
    {
      "cell_type": "code",
      "metadata": {
        "colab": {
          "base_uri": "https://localhost:8080/"
        },
        "id": "LilBAb7Mtihv",
        "outputId": "f07ae5b7-3146-4a9f-8287-63791404c2f0"
      },
      "source": [
        "from sklearn.linear_model import LinearRegression\n",
        "\n",
        "x_train.resize(len(x_train),1)\n",
        "y_train.resize(len(y_train),1)\n",
        "\n",
        "modelo = LinearRegression()\n",
        "modelo.fit(x_train, y_train)\n",
        "\n",
        "coefs = modelo.coef_[0]\n",
        "intercept = modelo.intercept_[0]\n",
        "print(\"y = {:.4f} + {:.4f}x\".format(intercept, coefs[0]))"
      ],
      "execution_count": null,
      "outputs": [
        {
          "output_type": "stream",
          "name": "stdout",
          "text": [
            "y = -0.2500 + 1.0833x\n"
          ]
        }
      ]
    },
    {
      "cell_type": "code",
      "metadata": {
        "colab": {
          "base_uri": "https://localhost:8080/",
          "height": 283
        },
        "id": "Np0obZrftikR",
        "outputId": "4427d47c-a3f9-426d-abb1-9100f1a62815"
      },
      "source": [
        "xx = np.linspace(0.0,2,2)\n",
        "yy = modelo.predict(xx.reshape(len(xx),1))\n",
        "\n",
        "plt.scatter(x,y)\n",
        "plt.plot(xx,yy,c='r')"
      ],
      "execution_count": null,
      "outputs": [
        {
          "output_type": "execute_result",
          "data": {
            "text/plain": [
              "[<matplotlib.lines.Line2D at 0x7f948d0854d0>]"
            ]
          },
          "metadata": {},
          "execution_count": 5
        },
        {
          "output_type": "display_data",
          "data": {
            "image/png": "[encoded data removed]",
            "text/plain": [
              "<Figure size 432x288 with 1 Axes>"
            ]
          },
          "metadata": {
            "needs_background": "light"
          }
        }
      ]
    },
    {
      "cell_type": "code",
      "metadata": {
        "colab": {
          "base_uri": "https://localhost:8080/"
        },
        "id": "XpqOglHvwEYx",
        "outputId": "598a6be8-1f3c-41be-c536-14011ecbd89e"
      },
      "source": [
        "from sklearn.metrics import mean_squared_error as mse \n",
        "mse1 = mse(y_test, modelo.predict(x_test.reshape(len(x_test),1)))\n",
        "mse1"
      ],
      "execution_count": null,
      "outputs": [
        {
          "output_type": "execute_result",
          "data": {
            "text/plain": [
              "0.09946759259259248"
            ]
          },
          "metadata": {},
          "execution_count": 6
        }
      ]
    },
    {
      "cell_type": "code",
      "metadata": {
        "colab": {
          "base_uri": "https://localhost:8080/"
        },
        "id": "7bsnh7d6wEcP",
        "outputId": "b523d07a-33ac-4441-ae69-5b73c2ef598d"
      },
      "source": [
        "from sklearn.linear_model import Ridge \n",
        "modelo2 = Ridge(alpha=0.3)\n",
        "modelo2.fit(x_train,y_train)\n",
        "coefs = modelo2.coef_[0]\n",
        "intercept = modelo2.intercept_[0]\n",
        "print(\"y = {:.4f} + {:.4f}x\".format(intercept, coefs[0]))"
      ],
      "execution_count": null,
      "outputs": [
        {
          "output_type": "stream",
          "name": "stdout",
          "text": [
            "y = 0.1324 + 0.7647x\n"
          ]
        }
      ]
    },
    {
      "cell_type": "code",
      "metadata": {
        "colab": {
          "base_uri": "https://localhost:8080/",
          "height": 281
        },
        "id": "y9T1DWfZwEfP",
        "outputId": "b1c9c536-2d79-4b6a-89c9-5dac46066490"
      },
      "source": [
        "xx = np.linspace(0.0,2,2)\n",
        "yy = modelo2.predict(xx.reshape(len(xx),1))\n",
        "\n",
        "plt.scatter(x,y)\n",
        "plt.plot(xx,yy,c='g')"
      ],
      "execution_count": null,
      "outputs": [
        {
          "output_type": "execute_result",
          "data": {
            "text/plain": [
              "[<matplotlib.lines.Line2D at 0x7f948b00be90>]"
            ]
          },
          "metadata": {},
          "execution_count": 8
        },
        {
          "output_type": "display_data",
          "data": {
            "image/png": "[encoded data removed]",
            "text/plain": [
              "<Figure size 432x288 with 1 Axes>"
            ]
          },
          "metadata": {
            "needs_background": "light"
          }
        }
      ]
    },
    {
      "cell_type": "code",
      "metadata": {
        "colab": {
          "base_uri": "https://localhost:8080/"
        },
        "id": "chtnrp5Rusui",
        "outputId": "5ff6cf33-b4d7-46d2-f09a-1f9c0031f226"
      },
      "source": [
        "from sklearn.metrics import mean_squared_error as mse\n",
        "mse2 = mse(y_test , modelo2.predict(x_test.reshape(len(x_test), 1)))\n",
        "print('Error : {}'.format(mse2))\n"
      ],
      "execution_count": null,
      "outputs": [
        {
          "output_type": "stream",
          "name": "stdout",
          "text": [
            "Error : 0.04533737024221454\n"
          ]
        }
      ]
    }
  ]
}